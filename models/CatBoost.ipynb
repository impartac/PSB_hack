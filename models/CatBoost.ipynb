{
 "cells": [
  {
   "cell_type": "code",
   "id": "initial_id",
   "metadata": {
    "collapsed": true,
    "ExecuteTime": {
     "end_time": "2024-09-21T08:02:16.318691Z",
     "start_time": "2024-09-21T08:02:16.315312Z"
    }
   },
   "source": [
    "import pandas as pd\n",
    "import numpy as np\n",
    "import matplotlib.pyplot as plt\n",
    "import torch\n",
    "import torch.nn.functional as F\n",
    "from torch.utils.data import Dataset, DataLoader\n",
    "import os\n",
    "from catboost import CatBoostClassifier, Pool"
   ],
   "outputs": [],
   "execution_count": 260
  },
  {
   "metadata": {
    "ExecuteTime": {
     "end_time": "2024-09-21T08:02:16.419770Z",
     "start_time": "2024-09-21T08:02:16.412805Z"
    }
   },
   "cell_type": "code",
   "source": [
    "root_dir = os.path.dirname(os.getcwd())\n",
    "display(root_dir)\n",
    "data_dir = os.path.join(root_dir, 'data')\n",
    "display(data_dir)\n",
    "train_path = os.path.join(data_dir, 'train.xlsx')\n",
    "display(train_path)"
   ],
   "id": "26dbf88765db75d1",
   "outputs": [
    {
     "data": {
      "text/plain": [
       "'C:\\\\Users\\\\32233\\\\OneDrive\\\\Documents\\\\HSE\\\\AI\\\\projects\\\\PSB_hack'"
      ]
     },
     "metadata": {},
     "output_type": "display_data"
    },
    {
     "data": {
      "text/plain": [
       "'C:\\\\Users\\\\32233\\\\OneDrive\\\\Documents\\\\HSE\\\\AI\\\\projects\\\\PSB_hack\\\\data'"
      ]
     },
     "metadata": {},
     "output_type": "display_data"
    },
    {
     "data": {
      "text/plain": [
       "'C:\\\\Users\\\\32233\\\\OneDrive\\\\Documents\\\\HSE\\\\AI\\\\projects\\\\PSB_hack\\\\data\\\\train.xlsx'"
      ]
     },
     "metadata": {},
     "output_type": "display_data"
    }
   ],
   "execution_count": 261
  },
  {
   "metadata": {
    "ExecuteTime": {
     "end_time": "2024-09-21T08:02:21.091596Z",
     "start_time": "2024-09-21T08:02:16.420775Z"
    }
   },
   "cell_type": "code",
   "source": "df = pd.read_excel(train_path)",
   "id": "5f772184cc10e143",
   "outputs": [],
   "execution_count": 262
  },
  {
   "metadata": {
    "ExecuteTime": {
     "end_time": "2024-09-21T08:02:21.107961Z",
     "start_time": "2024-09-21T08:02:21.092600Z"
    }
   },
   "cell_type": "code",
   "source": "display(df.head())",
   "id": "fbb5d09c430715b2",
   "outputs": [
    {
     "data": {
      "text/plain": [
       "   Unnamed: 0                   № брони  Номеров  Стоимость  \\\n",
       "0           0   20230428-6634-194809261        1    25700.0   \n",
       "1           1   20220711-6634-144460018        1    24800.0   \n",
       "2           2  20221204-16563-171020423        1    25800.0   \n",
       "3           3   20230918-7491-223512699        1    10500.0   \n",
       "4           4   20230529-6634-200121971        1    28690.0   \n",
       "\n",
       "   Внесена предоплата                                      Способ оплаты  \\\n",
       "0                   0                             Внешняя система оплаты   \n",
       "1               12400  Отложенная электронная оплата: Банк Россия (ба...   \n",
       "2               12900             Банк. карта: Банк Россия (банк. карта)   \n",
       "3                   0             Внешняя система оплаты (С предоплатой)   \n",
       "4               28690  Система быстрых платежей: Эквайринг ComfortBoo...   \n",
       "\n",
       "    Дата бронирования         Дата отмены               Заезд  Ночей  \\\n",
       "0 2023-04-20 20:37:30 2023-04-20 20:39:15 2023-04-28 15:00:00      3   \n",
       "1 2022-06-18 14:17:02                 NaT 2022-07-11 15:00:00      2   \n",
       "2 2022-11-14 22:59:30                 NaT 2022-12-04 15:00:00      2   \n",
       "3 2023-09-08 15:55:53                 NaT 2023-09-18 15:00:00      1   \n",
       "4 2023-05-20 19:54:13                 NaT 2023-05-29 15:00:00      2   \n",
       "\n",
       "                Выезд            Источник Статус брони  Категория номера  \\\n",
       "0 2023-05-01 12:00:00  Яндекс.Путешествия       Отмена  Номер «Стандарт»   \n",
       "1 2022-07-13 12:00:00    Официальный сайт     Активный  Номер «Стандарт»   \n",
       "2 2022-12-06 12:00:00    Официальный сайт     Активный    Номер «Студия»   \n",
       "3 2023-09-19 12:00:00   Bronevik.com(new)     Активный  Номер «Стандарт»   \n",
       "4 2023-05-31 12:00:00    Официальный сайт     Активный      Номер «Люкс»   \n",
       "\n",
       "   Гостей  Гостиница  \n",
       "0       2          1  \n",
       "1       2          1  \n",
       "2       2          4  \n",
       "3       1          3  \n",
       "4       4          1  "
      ],
      "text/html": [
       "<div>\n",
       "<style scoped>\n",
       "    .dataframe tbody tr th:only-of-type {\n",
       "        vertical-align: middle;\n",
       "    }\n",
       "\n",
       "    .dataframe tbody tr th {\n",
       "        vertical-align: top;\n",
       "    }\n",
       "\n",
       "    .dataframe thead th {\n",
       "        text-align: right;\n",
       "    }\n",
       "</style>\n",
       "<table border=\"1\" class=\"dataframe\">\n",
       "  <thead>\n",
       "    <tr style=\"text-align: right;\">\n",
       "      <th></th>\n",
       "      <th>Unnamed: 0</th>\n",
       "      <th>№ брони</th>\n",
       "      <th>Номеров</th>\n",
       "      <th>Стоимость</th>\n",
       "      <th>Внесена предоплата</th>\n",
       "      <th>Способ оплаты</th>\n",
       "      <th>Дата бронирования</th>\n",
       "      <th>Дата отмены</th>\n",
       "      <th>Заезд</th>\n",
       "      <th>Ночей</th>\n",
       "      <th>Выезд</th>\n",
       "      <th>Источник</th>\n",
       "      <th>Статус брони</th>\n",
       "      <th>Категория номера</th>\n",
       "      <th>Гостей</th>\n",
       "      <th>Гостиница</th>\n",
       "    </tr>\n",
       "  </thead>\n",
       "  <tbody>\n",
       "    <tr>\n",
       "      <th>0</th>\n",
       "      <td>0</td>\n",
       "      <td>20230428-6634-194809261</td>\n",
       "      <td>1</td>\n",
       "      <td>25700.0</td>\n",
       "      <td>0</td>\n",
       "      <td>Внешняя система оплаты</td>\n",
       "      <td>2023-04-20 20:37:30</td>\n",
       "      <td>2023-04-20 20:39:15</td>\n",
       "      <td>2023-04-28 15:00:00</td>\n",
       "      <td>3</td>\n",
       "      <td>2023-05-01 12:00:00</td>\n",
       "      <td>Яндекс.Путешествия</td>\n",
       "      <td>Отмена</td>\n",
       "      <td>Номер «Стандарт»</td>\n",
       "      <td>2</td>\n",
       "      <td>1</td>\n",
       "    </tr>\n",
       "    <tr>\n",
       "      <th>1</th>\n",
       "      <td>1</td>\n",
       "      <td>20220711-6634-144460018</td>\n",
       "      <td>1</td>\n",
       "      <td>24800.0</td>\n",
       "      <td>12400</td>\n",
       "      <td>Отложенная электронная оплата: Банк Россия (ба...</td>\n",
       "      <td>2022-06-18 14:17:02</td>\n",
       "      <td>NaT</td>\n",
       "      <td>2022-07-11 15:00:00</td>\n",
       "      <td>2</td>\n",
       "      <td>2022-07-13 12:00:00</td>\n",
       "      <td>Официальный сайт</td>\n",
       "      <td>Активный</td>\n",
       "      <td>Номер «Стандарт»</td>\n",
       "      <td>2</td>\n",
       "      <td>1</td>\n",
       "    </tr>\n",
       "    <tr>\n",
       "      <th>2</th>\n",
       "      <td>2</td>\n",
       "      <td>20221204-16563-171020423</td>\n",
       "      <td>1</td>\n",
       "      <td>25800.0</td>\n",
       "      <td>12900</td>\n",
       "      <td>Банк. карта: Банк Россия (банк. карта)</td>\n",
       "      <td>2022-11-14 22:59:30</td>\n",
       "      <td>NaT</td>\n",
       "      <td>2022-12-04 15:00:00</td>\n",
       "      <td>2</td>\n",
       "      <td>2022-12-06 12:00:00</td>\n",
       "      <td>Официальный сайт</td>\n",
       "      <td>Активный</td>\n",
       "      <td>Номер «Студия»</td>\n",
       "      <td>2</td>\n",
       "      <td>4</td>\n",
       "    </tr>\n",
       "    <tr>\n",
       "      <th>3</th>\n",
       "      <td>3</td>\n",
       "      <td>20230918-7491-223512699</td>\n",
       "      <td>1</td>\n",
       "      <td>10500.0</td>\n",
       "      <td>0</td>\n",
       "      <td>Внешняя система оплаты (С предоплатой)</td>\n",
       "      <td>2023-09-08 15:55:53</td>\n",
       "      <td>NaT</td>\n",
       "      <td>2023-09-18 15:00:00</td>\n",
       "      <td>1</td>\n",
       "      <td>2023-09-19 12:00:00</td>\n",
       "      <td>Bronevik.com(new)</td>\n",
       "      <td>Активный</td>\n",
       "      <td>Номер «Стандарт»</td>\n",
       "      <td>1</td>\n",
       "      <td>3</td>\n",
       "    </tr>\n",
       "    <tr>\n",
       "      <th>4</th>\n",
       "      <td>4</td>\n",
       "      <td>20230529-6634-200121971</td>\n",
       "      <td>1</td>\n",
       "      <td>28690.0</td>\n",
       "      <td>28690</td>\n",
       "      <td>Система быстрых платежей: Эквайринг ComfortBoo...</td>\n",
       "      <td>2023-05-20 19:54:13</td>\n",
       "      <td>NaT</td>\n",
       "      <td>2023-05-29 15:00:00</td>\n",
       "      <td>2</td>\n",
       "      <td>2023-05-31 12:00:00</td>\n",
       "      <td>Официальный сайт</td>\n",
       "      <td>Активный</td>\n",
       "      <td>Номер «Люкс»</td>\n",
       "      <td>4</td>\n",
       "      <td>1</td>\n",
       "    </tr>\n",
       "  </tbody>\n",
       "</table>\n",
       "</div>"
      ]
     },
     "metadata": {},
     "output_type": "display_data"
    }
   ],
   "execution_count": 263
  },
  {
   "metadata": {
    "ExecuteTime": {
     "end_time": "2024-09-21T08:02:21.115654Z",
     "start_time": "2024-09-21T08:02:21.108968Z"
    }
   },
   "cell_type": "code",
   "source": [
    "target = df['Дата отмены'].notna().astype(int)\n",
    "display(target)"
   ],
   "id": "904cc0fd25487c59",
   "outputs": [
    {
     "data": {
      "text/plain": [
       "0        1\n",
       "1        0\n",
       "2        0\n",
       "3        0\n",
       "4        0\n",
       "        ..\n",
       "26169    0\n",
       "26170    0\n",
       "26171    0\n",
       "26172    1\n",
       "26173    0\n",
       "Name: Дата отмены, Length: 26174, dtype: int32"
      ]
     },
     "metadata": {},
     "output_type": "display_data"
    }
   ],
   "execution_count": 264
  },
  {
   "metadata": {
    "ExecuteTime": {
     "end_time": "2024-09-21T08:02:21.129557Z",
     "start_time": "2024-09-21T08:02:21.116660Z"
    }
   },
   "cell_type": "code",
   "source": [
    "df = df.drop([\"Unnamed: 0\",\"№ брони\", \"Дата отмены\",\"Статус брони\"], axis=1)\n",
    "display(df)"
   ],
   "id": "87a8516f0c46f737",
   "outputs": [
    {
     "data": {
      "text/plain": [
       "       Номеров  Стоимость  Внесена предоплата  \\\n",
       "0            1    25700.0                   0   \n",
       "1            1    24800.0               12400   \n",
       "2            1    25800.0               12900   \n",
       "3            1    10500.0                   0   \n",
       "4            1    28690.0               28690   \n",
       "...        ...        ...                 ...   \n",
       "26169        1    18240.0                9120   \n",
       "26170        1    69600.0               23200   \n",
       "26171        1    55600.0               13900   \n",
       "26172        1     6300.0                   0   \n",
       "26173        1    24600.0               24600   \n",
       "\n",
       "                                           Способ оплаты   Дата бронирования  \\\n",
       "0                                 Внешняя система оплаты 2023-04-20 20:37:30   \n",
       "1      Отложенная электронная оплата: Банк Россия (ба... 2022-06-18 14:17:02   \n",
       "2                 Банк. карта: Банк Россия (банк. карта) 2022-11-14 22:59:30   \n",
       "3                 Внешняя система оплаты (С предоплатой) 2023-09-08 15:55:53   \n",
       "4      Система быстрых платежей: Эквайринг ComfortBoo... 2023-05-20 19:54:13   \n",
       "...                                                  ...                 ...   \n",
       "26169             Банк. карта: Банк Россия (банк. карта) 2023-01-07 17:45:18   \n",
       "26170             Банк. карта: Банк Россия (банк. карта) 2023-06-20 17:54:17   \n",
       "26171             Банк. карта: Банк Россия (банк. карта) 2022-05-08 19:24:05   \n",
       "26172                         Гарантия банковской картой 2022-02-19 09:55:50   \n",
       "26173             Банк. карта: Банк Россия (банк. карта) 2022-08-13 22:35:43   \n",
       "\n",
       "                    Заезд  Ночей               Выезд            Источник  \\\n",
       "0     2023-04-28 15:00:00      3 2023-05-01 12:00:00  Яндекс.Путешествия   \n",
       "1     2022-07-11 15:00:00      2 2022-07-13 12:00:00    Официальный сайт   \n",
       "2     2022-12-04 15:00:00      2 2022-12-06 12:00:00    Официальный сайт   \n",
       "3     2023-09-18 15:00:00      1 2023-09-19 12:00:00   Bronevik.com(new)   \n",
       "4     2023-05-29 15:00:00      2 2023-05-31 12:00:00    Официальный сайт   \n",
       "...                   ...    ...                 ...                 ...   \n",
       "26169 2023-03-10 15:00:00      2 2023-03-12 12:00:00    Официальный сайт   \n",
       "26170 2023-06-25 15:00:00      3 2023-06-28 12:00:00    Официальный сайт   \n",
       "26171 2022-06-24 15:00:00      4 2022-06-28 12:00:00    Официальный сайт   \n",
       "26172 2022-04-27 15:00:00      1 2022-04-28 12:00:00         booking.com   \n",
       "26173 2022-08-16 15:00:00      1 2022-08-17 12:00:00    Официальный сайт   \n",
       "\n",
       "                                   Категория номера  Гостей  Гостиница  \n",
       "0                                  Номер «Стандарт»       2          1  \n",
       "1                                  Номер «Стандарт»       2          1  \n",
       "2                                    Номер «Студия»       2          4  \n",
       "3                                  Номер «Стандарт»       1          3  \n",
       "4                                      Номер «Люкс»       4          1  \n",
       "...                                             ...     ...        ...  \n",
       "26169                              Номер «Стандарт»       2          2  \n",
       "26170                                Номер «Студия»       3          4  \n",
       "26171                              Номер «Стандарт»       2          2  \n",
       "26172                              Номер «Стандарт»       2          3  \n",
       "26173  Апартаменты с 2 спальнями с отдельным входом       3          1  \n",
       "\n",
       "[26174 rows x 12 columns]"
      ],
      "text/html": [
       "<div>\n",
       "<style scoped>\n",
       "    .dataframe tbody tr th:only-of-type {\n",
       "        vertical-align: middle;\n",
       "    }\n",
       "\n",
       "    .dataframe tbody tr th {\n",
       "        vertical-align: top;\n",
       "    }\n",
       "\n",
       "    .dataframe thead th {\n",
       "        text-align: right;\n",
       "    }\n",
       "</style>\n",
       "<table border=\"1\" class=\"dataframe\">\n",
       "  <thead>\n",
       "    <tr style=\"text-align: right;\">\n",
       "      <th></th>\n",
       "      <th>Номеров</th>\n",
       "      <th>Стоимость</th>\n",
       "      <th>Внесена предоплата</th>\n",
       "      <th>Способ оплаты</th>\n",
       "      <th>Дата бронирования</th>\n",
       "      <th>Заезд</th>\n",
       "      <th>Ночей</th>\n",
       "      <th>Выезд</th>\n",
       "      <th>Источник</th>\n",
       "      <th>Категория номера</th>\n",
       "      <th>Гостей</th>\n",
       "      <th>Гостиница</th>\n",
       "    </tr>\n",
       "  </thead>\n",
       "  <tbody>\n",
       "    <tr>\n",
       "      <th>0</th>\n",
       "      <td>1</td>\n",
       "      <td>25700.0</td>\n",
       "      <td>0</td>\n",
       "      <td>Внешняя система оплаты</td>\n",
       "      <td>2023-04-20 20:37:30</td>\n",
       "      <td>2023-04-28 15:00:00</td>\n",
       "      <td>3</td>\n",
       "      <td>2023-05-01 12:00:00</td>\n",
       "      <td>Яндекс.Путешествия</td>\n",
       "      <td>Номер «Стандарт»</td>\n",
       "      <td>2</td>\n",
       "      <td>1</td>\n",
       "    </tr>\n",
       "    <tr>\n",
       "      <th>1</th>\n",
       "      <td>1</td>\n",
       "      <td>24800.0</td>\n",
       "      <td>12400</td>\n",
       "      <td>Отложенная электронная оплата: Банк Россия (ба...</td>\n",
       "      <td>2022-06-18 14:17:02</td>\n",
       "      <td>2022-07-11 15:00:00</td>\n",
       "      <td>2</td>\n",
       "      <td>2022-07-13 12:00:00</td>\n",
       "      <td>Официальный сайт</td>\n",
       "      <td>Номер «Стандарт»</td>\n",
       "      <td>2</td>\n",
       "      <td>1</td>\n",
       "    </tr>\n",
       "    <tr>\n",
       "      <th>2</th>\n",
       "      <td>1</td>\n",
       "      <td>25800.0</td>\n",
       "      <td>12900</td>\n",
       "      <td>Банк. карта: Банк Россия (банк. карта)</td>\n",
       "      <td>2022-11-14 22:59:30</td>\n",
       "      <td>2022-12-04 15:00:00</td>\n",
       "      <td>2</td>\n",
       "      <td>2022-12-06 12:00:00</td>\n",
       "      <td>Официальный сайт</td>\n",
       "      <td>Номер «Студия»</td>\n",
       "      <td>2</td>\n",
       "      <td>4</td>\n",
       "    </tr>\n",
       "    <tr>\n",
       "      <th>3</th>\n",
       "      <td>1</td>\n",
       "      <td>10500.0</td>\n",
       "      <td>0</td>\n",
       "      <td>Внешняя система оплаты (С предоплатой)</td>\n",
       "      <td>2023-09-08 15:55:53</td>\n",
       "      <td>2023-09-18 15:00:00</td>\n",
       "      <td>1</td>\n",
       "      <td>2023-09-19 12:00:00</td>\n",
       "      <td>Bronevik.com(new)</td>\n",
       "      <td>Номер «Стандарт»</td>\n",
       "      <td>1</td>\n",
       "      <td>3</td>\n",
       "    </tr>\n",
       "    <tr>\n",
       "      <th>4</th>\n",
       "      <td>1</td>\n",
       "      <td>28690.0</td>\n",
       "      <td>28690</td>\n",
       "      <td>Система быстрых платежей: Эквайринг ComfortBoo...</td>\n",
       "      <td>2023-05-20 19:54:13</td>\n",
       "      <td>2023-05-29 15:00:00</td>\n",
       "      <td>2</td>\n",
       "      <td>2023-05-31 12:00:00</td>\n",
       "      <td>Официальный сайт</td>\n",
       "      <td>Номер «Люкс»</td>\n",
       "      <td>4</td>\n",
       "      <td>1</td>\n",
       "    </tr>\n",
       "    <tr>\n",
       "      <th>...</th>\n",
       "      <td>...</td>\n",
       "      <td>...</td>\n",
       "      <td>...</td>\n",
       "      <td>...</td>\n",
       "      <td>...</td>\n",
       "      <td>...</td>\n",
       "      <td>...</td>\n",
       "      <td>...</td>\n",
       "      <td>...</td>\n",
       "      <td>...</td>\n",
       "      <td>...</td>\n",
       "      <td>...</td>\n",
       "    </tr>\n",
       "    <tr>\n",
       "      <th>26169</th>\n",
       "      <td>1</td>\n",
       "      <td>18240.0</td>\n",
       "      <td>9120</td>\n",
       "      <td>Банк. карта: Банк Россия (банк. карта)</td>\n",
       "      <td>2023-01-07 17:45:18</td>\n",
       "      <td>2023-03-10 15:00:00</td>\n",
       "      <td>2</td>\n",
       "      <td>2023-03-12 12:00:00</td>\n",
       "      <td>Официальный сайт</td>\n",
       "      <td>Номер «Стандарт»</td>\n",
       "      <td>2</td>\n",
       "      <td>2</td>\n",
       "    </tr>\n",
       "    <tr>\n",
       "      <th>26170</th>\n",
       "      <td>1</td>\n",
       "      <td>69600.0</td>\n",
       "      <td>23200</td>\n",
       "      <td>Банк. карта: Банк Россия (банк. карта)</td>\n",
       "      <td>2023-06-20 17:54:17</td>\n",
       "      <td>2023-06-25 15:00:00</td>\n",
       "      <td>3</td>\n",
       "      <td>2023-06-28 12:00:00</td>\n",
       "      <td>Официальный сайт</td>\n",
       "      <td>Номер «Студия»</td>\n",
       "      <td>3</td>\n",
       "      <td>4</td>\n",
       "    </tr>\n",
       "    <tr>\n",
       "      <th>26171</th>\n",
       "      <td>1</td>\n",
       "      <td>55600.0</td>\n",
       "      <td>13900</td>\n",
       "      <td>Банк. карта: Банк Россия (банк. карта)</td>\n",
       "      <td>2022-05-08 19:24:05</td>\n",
       "      <td>2022-06-24 15:00:00</td>\n",
       "      <td>4</td>\n",
       "      <td>2022-06-28 12:00:00</td>\n",
       "      <td>Официальный сайт</td>\n",
       "      <td>Номер «Стандарт»</td>\n",
       "      <td>2</td>\n",
       "      <td>2</td>\n",
       "    </tr>\n",
       "    <tr>\n",
       "      <th>26172</th>\n",
       "      <td>1</td>\n",
       "      <td>6300.0</td>\n",
       "      <td>0</td>\n",
       "      <td>Гарантия банковской картой</td>\n",
       "      <td>2022-02-19 09:55:50</td>\n",
       "      <td>2022-04-27 15:00:00</td>\n",
       "      <td>1</td>\n",
       "      <td>2022-04-28 12:00:00</td>\n",
       "      <td>booking.com</td>\n",
       "      <td>Номер «Стандарт»</td>\n",
       "      <td>2</td>\n",
       "      <td>3</td>\n",
       "    </tr>\n",
       "    <tr>\n",
       "      <th>26173</th>\n",
       "      <td>1</td>\n",
       "      <td>24600.0</td>\n",
       "      <td>24600</td>\n",
       "      <td>Банк. карта: Банк Россия (банк. карта)</td>\n",
       "      <td>2022-08-13 22:35:43</td>\n",
       "      <td>2022-08-16 15:00:00</td>\n",
       "      <td>1</td>\n",
       "      <td>2022-08-17 12:00:00</td>\n",
       "      <td>Официальный сайт</td>\n",
       "      <td>Апартаменты с 2 спальнями с отдельным входом</td>\n",
       "      <td>3</td>\n",
       "      <td>1</td>\n",
       "    </tr>\n",
       "  </tbody>\n",
       "</table>\n",
       "<p>26174 rows × 12 columns</p>\n",
       "</div>"
      ]
     },
     "metadata": {},
     "output_type": "display_data"
    }
   ],
   "execution_count": 265
  },
  {
   "metadata": {},
   "cell_type": "markdown",
   "source": "### Train-test split learning",
   "id": "2be8d22f6cb06627"
  },
  {
   "metadata": {
    "ExecuteTime": {
     "end_time": "2024-09-21T08:02:21.137584Z",
     "start_time": "2024-09-21T08:02:21.129557Z"
    }
   },
   "cell_type": "code",
   "source": [
    "train_df = df.sample(frac=0.8, random_state=42)\n",
    "test_df = df.drop(train_df.index)\n",
    "display(train_df.shape, test_df.shape)"
   ],
   "id": "dfb9d5d18b625bb0",
   "outputs": [
    {
     "data": {
      "text/plain": [
       "(20939, 12)"
      ]
     },
     "metadata": {},
     "output_type": "display_data"
    },
    {
     "data": {
      "text/plain": [
       "(5235, 12)"
      ]
     },
     "metadata": {},
     "output_type": "display_data"
    }
   ],
   "execution_count": 266
  },
  {
   "metadata": {
    "ExecuteTime": {
     "end_time": "2024-09-21T08:02:21.141166Z",
     "start_time": "2024-09-21T08:02:21.137584Z"
    }
   },
   "cell_type": "code",
   "source": "categorical_features = [\"Способ оплаты\", \"Источник\",\"Категория номера\"]",
   "id": "68d6778f91fa6d34",
   "outputs": [],
   "execution_count": 267
  },
  {
   "metadata": {
    "ExecuteTime": {
     "end_time": "2024-09-21T08:02:21.157207Z",
     "start_time": "2024-09-21T08:02:21.142173Z"
    }
   },
   "cell_type": "code",
   "source": [
    "train_target = target[train_df.index]\n",
    "test_target = target.drop(train_df.index)\n",
    "display(train_target,train_target.shape)\n",
    "display(test_target,test_target.shape)\n"
   ],
   "id": "a0574d5c3dd9ca00",
   "outputs": [
    {
     "data": {
      "text/plain": [
       "5405     0\n",
       "20995    0\n",
       "15439    0\n",
       "19500    0\n",
       "17112    0\n",
       "        ..\n",
       "17888    1\n",
       "1806     0\n",
       "3871     0\n",
       "3791     1\n",
       "24555    0\n",
       "Name: Дата отмены, Length: 20939, dtype: int32"
      ]
     },
     "metadata": {},
     "output_type": "display_data"
    },
    {
     "data": {
      "text/plain": [
       "(20939,)"
      ]
     },
     "metadata": {},
     "output_type": "display_data"
    },
    {
     "data": {
      "text/plain": [
       "9        0\n",
       "11       0\n",
       "13       0\n",
       "16       1\n",
       "24       1\n",
       "        ..\n",
       "26155    0\n",
       "26156    0\n",
       "26163    0\n",
       "26170    0\n",
       "26172    1\n",
       "Name: Дата отмены, Length: 5235, dtype: int32"
      ]
     },
     "metadata": {},
     "output_type": "display_data"
    },
    {
     "data": {
      "text/plain": [
       "(5235,)"
      ]
     },
     "metadata": {},
     "output_type": "display_data"
    }
   ],
   "execution_count": 268
  },
  {
   "metadata": {
    "ExecuteTime": {
     "end_time": "2024-09-21T08:02:21.220274Z",
     "start_time": "2024-09-21T08:02:21.158216Z"
    }
   },
   "cell_type": "code",
   "source": [
    "train_pool = Pool(train_df, train_target, cat_features=categorical_features)\n",
    "test_pool = Pool(test_df, test_target, cat_features=categorical_features)"
   ],
   "id": "7e07755c932e8aaa",
   "outputs": [],
   "execution_count": 269
  },
  {
   "metadata": {},
   "cell_type": "markdown",
   "source": "### Model init with params {epochs = 100 , depth = 6} - will test",
   "id": "a96e243b0cdec628"
  },
  {
   "metadata": {
    "ExecuteTime": {
     "end_time": "2024-09-21T08:02:21.227453Z",
     "start_time": "2024-09-21T08:02:21.221280Z"
    }
   },
   "cell_type": "code",
   "source": "model = CatBoostClassifier(iterations=100, learning_rate=0.1, depth=6, verbose=True)",
   "id": "b283fd9f50a06ecf",
   "outputs": [],
   "execution_count": 270
  },
  {
   "metadata": {
    "ExecuteTime": {
     "end_time": "2024-09-21T08:02:23.275699Z",
     "start_time": "2024-09-21T08:02:21.229459Z"
    }
   },
   "cell_type": "code",
   "source": "model.fit(train_pool)",
   "id": "9dda989b132b0802",
   "outputs": [
    {
     "name": "stdout",
     "output_type": "stream",
     "text": [
      "0:\tlearn: 0.6413841\ttotal: 20.6ms\tremaining: 2.04s\n",
      "1:\tlearn: 0.5992745\ttotal: 42ms\tremaining: 2.06s\n",
      "2:\tlearn: 0.5642641\ttotal: 62.6ms\tremaining: 2.02s\n",
      "3:\tlearn: 0.5349808\ttotal: 85.6ms\tremaining: 2.05s\n",
      "4:\tlearn: 0.5104161\ttotal: 107ms\tremaining: 2.04s\n",
      "5:\tlearn: 0.4892946\ttotal: 131ms\tremaining: 2.05s\n",
      "6:\tlearn: 0.4634180\ttotal: 154ms\tremaining: 2.05s\n",
      "7:\tlearn: 0.4419321\ttotal: 168ms\tremaining: 1.93s\n",
      "8:\tlearn: 0.4236320\ttotal: 185ms\tremaining: 1.87s\n",
      "9:\tlearn: 0.4073668\ttotal: 208ms\tremaining: 1.87s\n",
      "10:\tlearn: 0.3944489\ttotal: 229ms\tremaining: 1.86s\n",
      "11:\tlearn: 0.3829794\ttotal: 254ms\tremaining: 1.86s\n",
      "12:\tlearn: 0.3728106\ttotal: 277ms\tremaining: 1.85s\n",
      "13:\tlearn: 0.3643260\ttotal: 299ms\tremaining: 1.84s\n",
      "14:\tlearn: 0.3570506\ttotal: 329ms\tremaining: 1.86s\n",
      "15:\tlearn: 0.3508433\ttotal: 354ms\tremaining: 1.86s\n",
      "16:\tlearn: 0.3448733\ttotal: 380ms\tremaining: 1.85s\n",
      "17:\tlearn: 0.3400303\ttotal: 400ms\tremaining: 1.82s\n",
      "18:\tlearn: 0.3362177\ttotal: 419ms\tremaining: 1.79s\n",
      "19:\tlearn: 0.3328528\ttotal: 436ms\tremaining: 1.74s\n",
      "20:\tlearn: 0.3297287\ttotal: 455ms\tremaining: 1.71s\n",
      "21:\tlearn: 0.3268731\ttotal: 477ms\tremaining: 1.69s\n",
      "22:\tlearn: 0.3248699\ttotal: 488ms\tremaining: 1.63s\n",
      "23:\tlearn: 0.3232164\ttotal: 498ms\tremaining: 1.58s\n",
      "24:\tlearn: 0.3212065\ttotal: 516ms\tremaining: 1.55s\n",
      "25:\tlearn: 0.3196126\ttotal: 534ms\tremaining: 1.52s\n",
      "26:\tlearn: 0.3183505\ttotal: 554ms\tremaining: 1.5s\n",
      "27:\tlearn: 0.3168174\ttotal: 573ms\tremaining: 1.47s\n",
      "28:\tlearn: 0.3157905\ttotal: 593ms\tremaining: 1.45s\n",
      "29:\tlearn: 0.3148943\ttotal: 612ms\tremaining: 1.43s\n",
      "30:\tlearn: 0.3139791\ttotal: 632ms\tremaining: 1.41s\n",
      "31:\tlearn: 0.3128241\ttotal: 653ms\tremaining: 1.39s\n",
      "32:\tlearn: 0.3120041\ttotal: 675ms\tremaining: 1.37s\n",
      "33:\tlearn: 0.3113380\ttotal: 694ms\tremaining: 1.35s\n",
      "34:\tlearn: 0.3105811\ttotal: 713ms\tremaining: 1.32s\n",
      "35:\tlearn: 0.3096697\ttotal: 733ms\tremaining: 1.3s\n",
      "36:\tlearn: 0.3090266\ttotal: 753ms\tremaining: 1.28s\n",
      "37:\tlearn: 0.3084057\ttotal: 772ms\tremaining: 1.26s\n",
      "38:\tlearn: 0.3080382\ttotal: 791ms\tremaining: 1.24s\n",
      "39:\tlearn: 0.3078155\ttotal: 809ms\tremaining: 1.21s\n",
      "40:\tlearn: 0.3069624\ttotal: 830ms\tremaining: 1.19s\n",
      "41:\tlearn: 0.3064918\ttotal: 850ms\tremaining: 1.17s\n",
      "42:\tlearn: 0.3061612\ttotal: 872ms\tremaining: 1.16s\n",
      "43:\tlearn: 0.3055985\ttotal: 893ms\tremaining: 1.14s\n",
      "44:\tlearn: 0.3054565\ttotal: 913ms\tremaining: 1.11s\n",
      "45:\tlearn: 0.3051526\ttotal: 931ms\tremaining: 1.09s\n",
      "46:\tlearn: 0.3046073\ttotal: 950ms\tremaining: 1.07s\n",
      "47:\tlearn: 0.3041058\ttotal: 969ms\tremaining: 1.05s\n",
      "48:\tlearn: 0.3039590\ttotal: 989ms\tremaining: 1.03s\n",
      "49:\tlearn: 0.3036745\ttotal: 1.01s\tremaining: 1.01s\n",
      "50:\tlearn: 0.3035722\ttotal: 1.03s\tremaining: 986ms\n",
      "51:\tlearn: 0.3032801\ttotal: 1.04s\tremaining: 965ms\n",
      "52:\tlearn: 0.3028056\ttotal: 1.06s\tremaining: 943ms\n",
      "53:\tlearn: 0.3022517\ttotal: 1.08s\tremaining: 924ms\n",
      "54:\tlearn: 0.3018281\ttotal: 1.1s\tremaining: 903ms\n",
      "55:\tlearn: 0.3015848\ttotal: 1.13s\tremaining: 884ms\n",
      "56:\tlearn: 0.3014068\ttotal: 1.15s\tremaining: 865ms\n",
      "57:\tlearn: 0.3012080\ttotal: 1.17s\tremaining: 844ms\n",
      "58:\tlearn: 0.3010178\ttotal: 1.19s\tremaining: 824ms\n",
      "59:\tlearn: 0.3007014\ttotal: 1.2s\tremaining: 803ms\n",
      "60:\tlearn: 0.3006605\ttotal: 1.22s\tremaining: 782ms\n",
      "61:\tlearn: 0.3005307\ttotal: 1.24s\tremaining: 761ms\n",
      "62:\tlearn: 0.3002005\ttotal: 1.26s\tremaining: 740ms\n",
      "63:\tlearn: 0.2999150\ttotal: 1.28s\tremaining: 720ms\n",
      "64:\tlearn: 0.2996654\ttotal: 1.3s\tremaining: 699ms\n",
      "65:\tlearn: 0.2993218\ttotal: 1.32s\tremaining: 680ms\n",
      "66:\tlearn: 0.2989611\ttotal: 1.34s\tremaining: 660ms\n",
      "67:\tlearn: 0.2987252\ttotal: 1.36s\tremaining: 639ms\n",
      "68:\tlearn: 0.2985117\ttotal: 1.38s\tremaining: 619ms\n",
      "69:\tlearn: 0.2981708\ttotal: 1.4s\tremaining: 599ms\n",
      "70:\tlearn: 0.2980419\ttotal: 1.42s\tremaining: 578ms\n",
      "71:\tlearn: 0.2979621\ttotal: 1.44s\tremaining: 558ms\n",
      "72:\tlearn: 0.2977489\ttotal: 1.46s\tremaining: 538ms\n",
      "73:\tlearn: 0.2974782\ttotal: 1.48s\tremaining: 519ms\n",
      "74:\tlearn: 0.2973071\ttotal: 1.5s\tremaining: 499ms\n",
      "75:\tlearn: 0.2972545\ttotal: 1.51s\tremaining: 478ms\n",
      "76:\tlearn: 0.2971420\ttotal: 1.53s\tremaining: 458ms\n",
      "77:\tlearn: 0.2970342\ttotal: 1.56s\tremaining: 440ms\n",
      "78:\tlearn: 0.2969215\ttotal: 1.58s\tremaining: 420ms\n",
      "79:\tlearn: 0.2965956\ttotal: 1.6s\tremaining: 400ms\n",
      "80:\tlearn: 0.2964265\ttotal: 1.62s\tremaining: 379ms\n",
      "81:\tlearn: 0.2962418\ttotal: 1.64s\tremaining: 359ms\n",
      "82:\tlearn: 0.2961038\ttotal: 1.66s\tremaining: 339ms\n",
      "83:\tlearn: 0.2960402\ttotal: 1.67s\tremaining: 319ms\n",
      "84:\tlearn: 0.2959144\ttotal: 1.69s\tremaining: 299ms\n",
      "85:\tlearn: 0.2955417\ttotal: 1.71s\tremaining: 279ms\n",
      "86:\tlearn: 0.2953303\ttotal: 1.73s\tremaining: 259ms\n",
      "87:\tlearn: 0.2952286\ttotal: 1.75s\tremaining: 239ms\n",
      "88:\tlearn: 0.2950968\ttotal: 1.77s\tremaining: 219ms\n",
      "89:\tlearn: 0.2949900\ttotal: 1.79s\tremaining: 199ms\n",
      "90:\tlearn: 0.2948380\ttotal: 1.81s\tremaining: 179ms\n",
      "91:\tlearn: 0.2946899\ttotal: 1.83s\tremaining: 159ms\n",
      "92:\tlearn: 0.2946198\ttotal: 1.85s\tremaining: 139ms\n",
      "93:\tlearn: 0.2945347\ttotal: 1.87s\tremaining: 119ms\n",
      "94:\tlearn: 0.2944038\ttotal: 1.89s\tremaining: 99.3ms\n",
      "95:\tlearn: 0.2942947\ttotal: 1.91s\tremaining: 79.4ms\n",
      "96:\tlearn: 0.2942067\ttotal: 1.93s\tremaining: 59.5ms\n",
      "97:\tlearn: 0.2939170\ttotal: 1.95s\tremaining: 39.7ms\n",
      "98:\tlearn: 0.2937982\ttotal: 1.96s\tremaining: 19.8ms\n",
      "99:\tlearn: 0.2934942\ttotal: 1.98s\tremaining: 0us\n"
     ]
    },
    {
     "data": {
      "text/plain": [
       "<catboost.core.CatBoostClassifier at 0x1b9d1519090>"
      ]
     },
     "execution_count": 271,
     "metadata": {},
     "output_type": "execute_result"
    }
   ],
   "execution_count": 271
  },
  {
   "metadata": {
    "ExecuteTime": {
     "end_time": "2024-09-21T08:02:23.288613Z",
     "start_time": "2024-09-21T08:02:23.275699Z"
    }
   },
   "cell_type": "code",
   "source": [
    "predictions = model.predict(test_pool)\n",
    "display(predictions,predictions.shape)\n",
    "display(test_target)\n",
    "accuracy = (predictions == test_target).mean()\n",
    "print(f'Accuracy: {accuracy}')\n",
    "from sklearn.metrics import roc_auc_score\n",
    "score = roc_auc_score(predictions,test_target)\n",
    "display(score)"
   ],
   "id": "b4a02a92ec642472",
   "outputs": [
    {
     "data": {
      "text/plain": [
       "array([0, 0, 0, ..., 0, 0, 1], dtype=int64)"
      ]
     },
     "metadata": {},
     "output_type": "display_data"
    },
    {
     "data": {
      "text/plain": [
       "(5235,)"
      ]
     },
     "metadata": {},
     "output_type": "display_data"
    },
    {
     "data": {
      "text/plain": [
       "9        0\n",
       "11       0\n",
       "13       0\n",
       "16       1\n",
       "24       1\n",
       "        ..\n",
       "26155    0\n",
       "26156    0\n",
       "26163    0\n",
       "26170    0\n",
       "26172    1\n",
       "Name: Дата отмены, Length: 5235, dtype: int32"
      ]
     },
     "metadata": {},
     "output_type": "display_data"
    },
    {
     "name": "stdout",
     "output_type": "stream",
     "text": [
      "Accuracy: 0.889207258834766\n"
     ]
    },
    {
     "data": {
      "text/plain": [
       "0.9149239067230767"
      ]
     },
     "metadata": {},
     "output_type": "display_data"
    }
   ],
   "execution_count": 272
  },
  {
   "metadata": {
    "ExecuteTime": {
     "end_time": "2024-09-21T08:02:25.710679Z",
     "start_time": "2024-09-21T08:02:23.289629Z"
    }
   },
   "cell_type": "code",
   "source": [
    "tdf_path = os.path.join(data_dir, 'test.xlsx')\n",
    "display(tdf_path)\n",
    "tdf = pd.read_excel(tdf_path)\n",
    "display(tdf.head())"
   ],
   "id": "df94eb96b19254c9",
   "outputs": [
    {
     "data": {
      "text/plain": [
       "'C:\\\\Users\\\\32233\\\\OneDrive\\\\Documents\\\\HSE\\\\AI\\\\projects\\\\PSB_hack\\\\data\\\\test.xlsx'"
      ]
     },
     "metadata": {},
     "output_type": "display_data"
    },
    {
     "data": {
      "text/plain": [
       "   Unnamed: 0                   № брони  Номеров  Стоимость  \\\n",
       "0           0  20231129-16563-238946689        1    23750.0   \n",
       "1           1   20221219-7491-174959103        1    15010.0   \n",
       "2           2   20221211-6634-172724329        1     8400.0   \n",
       "3           3   20230821-6634-212247350        1    42500.0   \n",
       "4           4   20230326-6634-189784563        1    62500.0   \n",
       "\n",
       "   Внесена предоплата                                      Способ оплаты  \\\n",
       "0               23750             Банк. карта: Банк Россия (банк. карта)   \n",
       "1                7505             Банк. карта: Банк Россия (банк. карта)   \n",
       "2                8400  Отложенная электронная оплата: Банк Россия (ба...   \n",
       "3               42500             Банк. карта: Банк Россия (банк. карта)   \n",
       "4               11900  Система быстрых платежей: Эквайринг ComfortBoo...   \n",
       "\n",
       "    Дата бронирования               Заезд  Ночей               Выезд  \\\n",
       "0 2023-11-28 10:34:43 2023-11-29 15:00:00      2 2023-12-01 12:00:00   \n",
       "1 2022-12-12 18:30:43 2022-12-19 15:00:00      2 2022-12-21 12:00:00   \n",
       "2 2022-11-25 22:03:59 2022-12-11 15:00:00      1 2022-12-12 12:00:00   \n",
       "3 2023-07-18 15:45:46 2023-08-21 15:00:00      3 2023-08-24 12:00:00   \n",
       "4 2023-03-23 11:04:13 2023-03-26 15:00:00      5 2023-03-31 12:00:00   \n",
       "\n",
       "           Источник                              Категория номера  Гостей  \\\n",
       "0  Официальный сайт                                Номер «Студия»       3   \n",
       "1  Официальный сайт                              Номер «Стандарт»       2   \n",
       "2  Официальный сайт                              Номер «Стандарт»       2   \n",
       "3  Официальный сайт  Апартаменты с 2 спальнями с отдельным входом       4   \n",
       "4  Официальный сайт                              Номер «Стандарт»       1   \n",
       "\n",
       "   Гостиница  \n",
       "0          4  \n",
       "1          3  \n",
       "2          1  \n",
       "3          1  \n",
       "4          1  "
      ],
      "text/html": [
       "<div>\n",
       "<style scoped>\n",
       "    .dataframe tbody tr th:only-of-type {\n",
       "        vertical-align: middle;\n",
       "    }\n",
       "\n",
       "    .dataframe tbody tr th {\n",
       "        vertical-align: top;\n",
       "    }\n",
       "\n",
       "    .dataframe thead th {\n",
       "        text-align: right;\n",
       "    }\n",
       "</style>\n",
       "<table border=\"1\" class=\"dataframe\">\n",
       "  <thead>\n",
       "    <tr style=\"text-align: right;\">\n",
       "      <th></th>\n",
       "      <th>Unnamed: 0</th>\n",
       "      <th>№ брони</th>\n",
       "      <th>Номеров</th>\n",
       "      <th>Стоимость</th>\n",
       "      <th>Внесена предоплата</th>\n",
       "      <th>Способ оплаты</th>\n",
       "      <th>Дата бронирования</th>\n",
       "      <th>Заезд</th>\n",
       "      <th>Ночей</th>\n",
       "      <th>Выезд</th>\n",
       "      <th>Источник</th>\n",
       "      <th>Категория номера</th>\n",
       "      <th>Гостей</th>\n",
       "      <th>Гостиница</th>\n",
       "    </tr>\n",
       "  </thead>\n",
       "  <tbody>\n",
       "    <tr>\n",
       "      <th>0</th>\n",
       "      <td>0</td>\n",
       "      <td>20231129-16563-238946689</td>\n",
       "      <td>1</td>\n",
       "      <td>23750.0</td>\n",
       "      <td>23750</td>\n",
       "      <td>Банк. карта: Банк Россия (банк. карта)</td>\n",
       "      <td>2023-11-28 10:34:43</td>\n",
       "      <td>2023-11-29 15:00:00</td>\n",
       "      <td>2</td>\n",
       "      <td>2023-12-01 12:00:00</td>\n",
       "      <td>Официальный сайт</td>\n",
       "      <td>Номер «Студия»</td>\n",
       "      <td>3</td>\n",
       "      <td>4</td>\n",
       "    </tr>\n",
       "    <tr>\n",
       "      <th>1</th>\n",
       "      <td>1</td>\n",
       "      <td>20221219-7491-174959103</td>\n",
       "      <td>1</td>\n",
       "      <td>15010.0</td>\n",
       "      <td>7505</td>\n",
       "      <td>Банк. карта: Банк Россия (банк. карта)</td>\n",
       "      <td>2022-12-12 18:30:43</td>\n",
       "      <td>2022-12-19 15:00:00</td>\n",
       "      <td>2</td>\n",
       "      <td>2022-12-21 12:00:00</td>\n",
       "      <td>Официальный сайт</td>\n",
       "      <td>Номер «Стандарт»</td>\n",
       "      <td>2</td>\n",
       "      <td>3</td>\n",
       "    </tr>\n",
       "    <tr>\n",
       "      <th>2</th>\n",
       "      <td>2</td>\n",
       "      <td>20221211-6634-172724329</td>\n",
       "      <td>1</td>\n",
       "      <td>8400.0</td>\n",
       "      <td>8400</td>\n",
       "      <td>Отложенная электронная оплата: Банк Россия (ба...</td>\n",
       "      <td>2022-11-25 22:03:59</td>\n",
       "      <td>2022-12-11 15:00:00</td>\n",
       "      <td>1</td>\n",
       "      <td>2022-12-12 12:00:00</td>\n",
       "      <td>Официальный сайт</td>\n",
       "      <td>Номер «Стандарт»</td>\n",
       "      <td>2</td>\n",
       "      <td>1</td>\n",
       "    </tr>\n",
       "    <tr>\n",
       "      <th>3</th>\n",
       "      <td>3</td>\n",
       "      <td>20230821-6634-212247350</td>\n",
       "      <td>1</td>\n",
       "      <td>42500.0</td>\n",
       "      <td>42500</td>\n",
       "      <td>Банк. карта: Банк Россия (банк. карта)</td>\n",
       "      <td>2023-07-18 15:45:46</td>\n",
       "      <td>2023-08-21 15:00:00</td>\n",
       "      <td>3</td>\n",
       "      <td>2023-08-24 12:00:00</td>\n",
       "      <td>Официальный сайт</td>\n",
       "      <td>Апартаменты с 2 спальнями с отдельным входом</td>\n",
       "      <td>4</td>\n",
       "      <td>1</td>\n",
       "    </tr>\n",
       "    <tr>\n",
       "      <th>4</th>\n",
       "      <td>4</td>\n",
       "      <td>20230326-6634-189784563</td>\n",
       "      <td>1</td>\n",
       "      <td>62500.0</td>\n",
       "      <td>11900</td>\n",
       "      <td>Система быстрых платежей: Эквайринг ComfortBoo...</td>\n",
       "      <td>2023-03-23 11:04:13</td>\n",
       "      <td>2023-03-26 15:00:00</td>\n",
       "      <td>5</td>\n",
       "      <td>2023-03-31 12:00:00</td>\n",
       "      <td>Официальный сайт</td>\n",
       "      <td>Номер «Стандарт»</td>\n",
       "      <td>1</td>\n",
       "      <td>1</td>\n",
       "    </tr>\n",
       "  </tbody>\n",
       "</table>\n",
       "</div>"
      ]
     },
     "metadata": {},
     "output_type": "display_data"
    }
   ],
   "execution_count": 273
  },
  {
   "metadata": {
    "ExecuteTime": {
     "end_time": "2024-09-21T08:02:25.726690Z",
     "start_time": "2024-09-21T08:02:25.711684Z"
    }
   },
   "cell_type": "code",
   "source": [
    "tdf = tdf.drop([\"Unnamed: 0\",\"№ брони\"], axis=1)\n",
    "display(tdf)"
   ],
   "id": "3a4c4c4fac3256d1",
   "outputs": [
    {
     "data": {
      "text/plain": [
       "       Номеров  Стоимость  Внесена предоплата  \\\n",
       "0            1    23750.0               23750   \n",
       "1            1    15010.0                7505   \n",
       "2            1     8400.0                8400   \n",
       "3            1    42500.0               42500   \n",
       "4            1    62500.0               11900   \n",
       "...        ...        ...                 ...   \n",
       "11213        1    50200.0               50200   \n",
       "11214        1   190100.0               43500   \n",
       "11215        1    42300.0               42300   \n",
       "11216        1    27900.0               27900   \n",
       "11217        1    68000.0               12325   \n",
       "\n",
       "                                           Способ оплаты   Дата бронирования  \\\n",
       "0                 Банк. карта: Банк Россия (банк. карта) 2023-11-28 10:34:43   \n",
       "1                 Банк. карта: Банк Россия (банк. карта) 2022-12-12 18:30:43   \n",
       "2      Отложенная электронная оплата: Банк Россия (ба... 2022-11-25 22:03:59   \n",
       "3                 Банк. карта: Банк Россия (банк. карта) 2023-07-18 15:45:46   \n",
       "4      Система быстрых платежей: Эквайринг ComfortBoo... 2023-03-23 11:04:13   \n",
       "...                                                  ...                 ...   \n",
       "11213  Банк. карта [Кешбэк. МИР]: Эквайринг TravelLin... 2022-03-27 21:30:38   \n",
       "11214  Система быстрых платежей: Эквайринг ComfortBoo... 2023-11-11 17:51:55   \n",
       "11215             Банк. карта: Банк Россия (банк. карта) 2022-02-09 02:23:14   \n",
       "11216             Банк. карта: Банк Россия (банк. карта) 2023-01-21 09:10:17   \n",
       "11217             Банк. карта: Банк Россия (банк. карта) 2023-02-26 19:11:01   \n",
       "\n",
       "                    Заезд  Ночей               Выезд          Источник  \\\n",
       "0     2023-11-29 15:00:00      2 2023-12-01 12:00:00  Официальный сайт   \n",
       "1     2022-12-19 15:00:00      2 2022-12-21 12:00:00  Официальный сайт   \n",
       "2     2022-12-11 15:00:00      1 2022-12-12 12:00:00  Официальный сайт   \n",
       "3     2023-08-21 15:00:00      3 2023-08-24 12:00:00  Официальный сайт   \n",
       "4     2023-03-26 15:00:00      5 2023-03-31 12:00:00  Официальный сайт   \n",
       "...                   ...    ...                 ...               ...   \n",
       "11213 2022-05-07 15:00:00      2 2022-05-09 12:00:00  Официальный сайт   \n",
       "11214 2024-02-16 15:00:00      5 2024-02-21 12:00:00  Официальный сайт   \n",
       "11215 2022-02-09 15:00:00      1 2022-02-10 12:00:00  Официальный сайт   \n",
       "11216 2023-01-28 15:00:00      1 2023-01-29 12:00:00  Официальный сайт   \n",
       "11217 2023-04-09 15:00:00      6 2023-04-15 12:00:00  Официальный сайт   \n",
       "\n",
       "                                   Категория номера  Гостей  Гостиница  \n",
       "0                                    Номер «Студия»       3          4  \n",
       "1                                  Номер «Стандарт»       2          3  \n",
       "2                                  Номер «Стандарт»       2          1  \n",
       "3      Апартаменты с 2 спальнями с отдельным входом       4          1  \n",
       "4                                  Номер «Стандарт»       1          1  \n",
       "...                                             ...     ...        ...  \n",
       "11213                                Номер «Студия»       4          2  \n",
       "11214                         Коттедж с 2 спальнями       4          1  \n",
       "11215                         Коттедж с 3 спальнями       5          1  \n",
       "11216  Апартаменты с 2 спальнями с отдельным входом       4          1  \n",
       "11217                                Номер «Студия»       4          4  \n",
       "\n",
       "[11218 rows x 12 columns]"
      ],
      "text/html": [
       "<div>\n",
       "<style scoped>\n",
       "    .dataframe tbody tr th:only-of-type {\n",
       "        vertical-align: middle;\n",
       "    }\n",
       "\n",
       "    .dataframe tbody tr th {\n",
       "        vertical-align: top;\n",
       "    }\n",
       "\n",
       "    .dataframe thead th {\n",
       "        text-align: right;\n",
       "    }\n",
       "</style>\n",
       "<table border=\"1\" class=\"dataframe\">\n",
       "  <thead>\n",
       "    <tr style=\"text-align: right;\">\n",
       "      <th></th>\n",
       "      <th>Номеров</th>\n",
       "      <th>Стоимость</th>\n",
       "      <th>Внесена предоплата</th>\n",
       "      <th>Способ оплаты</th>\n",
       "      <th>Дата бронирования</th>\n",
       "      <th>Заезд</th>\n",
       "      <th>Ночей</th>\n",
       "      <th>Выезд</th>\n",
       "      <th>Источник</th>\n",
       "      <th>Категория номера</th>\n",
       "      <th>Гостей</th>\n",
       "      <th>Гостиница</th>\n",
       "    </tr>\n",
       "  </thead>\n",
       "  <tbody>\n",
       "    <tr>\n",
       "      <th>0</th>\n",
       "      <td>1</td>\n",
       "      <td>23750.0</td>\n",
       "      <td>23750</td>\n",
       "      <td>Банк. карта: Банк Россия (банк. карта)</td>\n",
       "      <td>2023-11-28 10:34:43</td>\n",
       "      <td>2023-11-29 15:00:00</td>\n",
       "      <td>2</td>\n",
       "      <td>2023-12-01 12:00:00</td>\n",
       "      <td>Официальный сайт</td>\n",
       "      <td>Номер «Студия»</td>\n",
       "      <td>3</td>\n",
       "      <td>4</td>\n",
       "    </tr>\n",
       "    <tr>\n",
       "      <th>1</th>\n",
       "      <td>1</td>\n",
       "      <td>15010.0</td>\n",
       "      <td>7505</td>\n",
       "      <td>Банк. карта: Банк Россия (банк. карта)</td>\n",
       "      <td>2022-12-12 18:30:43</td>\n",
       "      <td>2022-12-19 15:00:00</td>\n",
       "      <td>2</td>\n",
       "      <td>2022-12-21 12:00:00</td>\n",
       "      <td>Официальный сайт</td>\n",
       "      <td>Номер «Стандарт»</td>\n",
       "      <td>2</td>\n",
       "      <td>3</td>\n",
       "    </tr>\n",
       "    <tr>\n",
       "      <th>2</th>\n",
       "      <td>1</td>\n",
       "      <td>8400.0</td>\n",
       "      <td>8400</td>\n",
       "      <td>Отложенная электронная оплата: Банк Россия (ба...</td>\n",
       "      <td>2022-11-25 22:03:59</td>\n",
       "      <td>2022-12-11 15:00:00</td>\n",
       "      <td>1</td>\n",
       "      <td>2022-12-12 12:00:00</td>\n",
       "      <td>Официальный сайт</td>\n",
       "      <td>Номер «Стандарт»</td>\n",
       "      <td>2</td>\n",
       "      <td>1</td>\n",
       "    </tr>\n",
       "    <tr>\n",
       "      <th>3</th>\n",
       "      <td>1</td>\n",
       "      <td>42500.0</td>\n",
       "      <td>42500</td>\n",
       "      <td>Банк. карта: Банк Россия (банк. карта)</td>\n",
       "      <td>2023-07-18 15:45:46</td>\n",
       "      <td>2023-08-21 15:00:00</td>\n",
       "      <td>3</td>\n",
       "      <td>2023-08-24 12:00:00</td>\n",
       "      <td>Официальный сайт</td>\n",
       "      <td>Апартаменты с 2 спальнями с отдельным входом</td>\n",
       "      <td>4</td>\n",
       "      <td>1</td>\n",
       "    </tr>\n",
       "    <tr>\n",
       "      <th>4</th>\n",
       "      <td>1</td>\n",
       "      <td>62500.0</td>\n",
       "      <td>11900</td>\n",
       "      <td>Система быстрых платежей: Эквайринг ComfortBoo...</td>\n",
       "      <td>2023-03-23 11:04:13</td>\n",
       "      <td>2023-03-26 15:00:00</td>\n",
       "      <td>5</td>\n",
       "      <td>2023-03-31 12:00:00</td>\n",
       "      <td>Официальный сайт</td>\n",
       "      <td>Номер «Стандарт»</td>\n",
       "      <td>1</td>\n",
       "      <td>1</td>\n",
       "    </tr>\n",
       "    <tr>\n",
       "      <th>...</th>\n",
       "      <td>...</td>\n",
       "      <td>...</td>\n",
       "      <td>...</td>\n",
       "      <td>...</td>\n",
       "      <td>...</td>\n",
       "      <td>...</td>\n",
       "      <td>...</td>\n",
       "      <td>...</td>\n",
       "      <td>...</td>\n",
       "      <td>...</td>\n",
       "      <td>...</td>\n",
       "      <td>...</td>\n",
       "    </tr>\n",
       "    <tr>\n",
       "      <th>11213</th>\n",
       "      <td>1</td>\n",
       "      <td>50200.0</td>\n",
       "      <td>50200</td>\n",
       "      <td>Банк. карта [Кешбэк. МИР]: Эквайринг TravelLin...</td>\n",
       "      <td>2022-03-27 21:30:38</td>\n",
       "      <td>2022-05-07 15:00:00</td>\n",
       "      <td>2</td>\n",
       "      <td>2022-05-09 12:00:00</td>\n",
       "      <td>Официальный сайт</td>\n",
       "      <td>Номер «Студия»</td>\n",
       "      <td>4</td>\n",
       "      <td>2</td>\n",
       "    </tr>\n",
       "    <tr>\n",
       "      <th>11214</th>\n",
       "      <td>1</td>\n",
       "      <td>190100.0</td>\n",
       "      <td>43500</td>\n",
       "      <td>Система быстрых платежей: Эквайринг ComfortBoo...</td>\n",
       "      <td>2023-11-11 17:51:55</td>\n",
       "      <td>2024-02-16 15:00:00</td>\n",
       "      <td>5</td>\n",
       "      <td>2024-02-21 12:00:00</td>\n",
       "      <td>Официальный сайт</td>\n",
       "      <td>Коттедж с 2 спальнями</td>\n",
       "      <td>4</td>\n",
       "      <td>1</td>\n",
       "    </tr>\n",
       "    <tr>\n",
       "      <th>11215</th>\n",
       "      <td>1</td>\n",
       "      <td>42300.0</td>\n",
       "      <td>42300</td>\n",
       "      <td>Банк. карта: Банк Россия (банк. карта)</td>\n",
       "      <td>2022-02-09 02:23:14</td>\n",
       "      <td>2022-02-09 15:00:00</td>\n",
       "      <td>1</td>\n",
       "      <td>2022-02-10 12:00:00</td>\n",
       "      <td>Официальный сайт</td>\n",
       "      <td>Коттедж с 3 спальнями</td>\n",
       "      <td>5</td>\n",
       "      <td>1</td>\n",
       "    </tr>\n",
       "    <tr>\n",
       "      <th>11216</th>\n",
       "      <td>1</td>\n",
       "      <td>27900.0</td>\n",
       "      <td>27900</td>\n",
       "      <td>Банк. карта: Банк Россия (банк. карта)</td>\n",
       "      <td>2023-01-21 09:10:17</td>\n",
       "      <td>2023-01-28 15:00:00</td>\n",
       "      <td>1</td>\n",
       "      <td>2023-01-29 12:00:00</td>\n",
       "      <td>Официальный сайт</td>\n",
       "      <td>Апартаменты с 2 спальнями с отдельным входом</td>\n",
       "      <td>4</td>\n",
       "      <td>1</td>\n",
       "    </tr>\n",
       "    <tr>\n",
       "      <th>11217</th>\n",
       "      <td>1</td>\n",
       "      <td>68000.0</td>\n",
       "      <td>12325</td>\n",
       "      <td>Банк. карта: Банк Россия (банк. карта)</td>\n",
       "      <td>2023-02-26 19:11:01</td>\n",
       "      <td>2023-04-09 15:00:00</td>\n",
       "      <td>6</td>\n",
       "      <td>2023-04-15 12:00:00</td>\n",
       "      <td>Официальный сайт</td>\n",
       "      <td>Номер «Студия»</td>\n",
       "      <td>4</td>\n",
       "      <td>4</td>\n",
       "    </tr>\n",
       "  </tbody>\n",
       "</table>\n",
       "<p>11218 rows × 12 columns</p>\n",
       "</div>"
      ]
     },
     "metadata": {},
     "output_type": "display_data"
    }
   ],
   "execution_count": 274
  },
  {
   "metadata": {
    "ExecuteTime": {
     "end_time": "2024-09-21T08:02:25.762517Z",
     "start_time": "2024-09-21T08:02:25.727695Z"
    }
   },
   "cell_type": "code",
   "source": [
    "res=model.predict(tdf)\n",
    "display(res)"
   ],
   "id": "c4584469300a5e53",
   "outputs": [
    {
     "data": {
      "text/plain": [
       "array([0, 0, 0, ..., 0, 0, 0], dtype=int64)"
      ]
     },
     "metadata": {},
     "output_type": "display_data"
    }
   ],
   "execution_count": 275
  },
  {
   "metadata": {
    "ExecuteTime": {
     "end_time": "2024-09-21T08:02:25.766524Z",
     "start_time": "2024-09-21T08:02:25.762517Z"
    }
   },
   "cell_type": "code",
   "source": [
    "hist, bin_edges = np.histogram(res, bins=2)\n",
    "print(f\"Гистограмма: {hist}\")\n",
    "print(f\"Границы интервалов: {bin_edges}\")"
   ],
   "id": "f21a99c574cf8306",
   "outputs": [
    {
     "name": "stdout",
     "output_type": "stream",
     "text": [
      "Гистограмма: [10059  1159]\n",
      "Границы интервалов: [0.  0.5 1. ]\n"
     ]
    }
   ],
   "execution_count": 276
  },
  {
   "metadata": {
    "ExecuteTime": {
     "end_time": "2024-09-21T08:02:25.772612Z",
     "start_time": "2024-09-21T08:02:25.766524Z"
    }
   },
   "cell_type": "code",
   "source": "catboost_res_dir = os.path.join(root_dir, 'catboost_res')",
   "id": "82baf2aee30bccf7",
   "outputs": [],
   "execution_count": 277
  },
  {
   "metadata": {
    "ExecuteTime": {
     "end_time": "2024-09-21T08:02:25.782826Z",
     "start_time": "2024-09-21T08:02:25.773616Z"
    }
   },
   "cell_type": "code",
   "source": [
    "res_df = pd.DataFrame(res)\n",
    "res_df.to_csv(os.path.join(catboost_res_dir,\"res2.csv\"),index = False, header=None)"
   ],
   "id": "8fce64138ca70dd7",
   "outputs": [],
   "execution_count": 278
  },
  {
   "metadata": {},
   "cell_type": "markdown",
   "source": "# Learn on all data",
   "id": "1dfe88abb64638bd"
  },
  {
   "metadata": {
    "ExecuteTime": {
     "end_time": "2024-09-21T08:02:25.786431Z",
     "start_time": "2024-09-21T08:02:25.782826Z"
    }
   },
   "cell_type": "code",
   "source": "model = CatBoostClassifier(iterations=100, learning_rate=0.1, depth=6, verbose=True)",
   "id": "c479f4e17773467f",
   "outputs": [],
   "execution_count": 279
  },
  {
   "metadata": {
    "ExecuteTime": {
     "end_time": "2024-09-21T08:02:25.794254Z",
     "start_time": "2024-09-21T08:02:25.786431Z"
    }
   },
   "cell_type": "code",
   "source": "categorical_features = [\"Способ оплаты\", \"Источник\",\"Категория номера\"]",
   "id": "5d3794e6e3da7221",
   "outputs": [],
   "execution_count": 280
  },
  {
   "metadata": {
    "ExecuteTime": {
     "end_time": "2024-09-21T08:02:31.009144Z",
     "start_time": "2024-09-21T08:02:25.795259Z"
    }
   },
   "cell_type": "code",
   "source": [
    "df = pd.read_excel(train_path)\n",
    "target = df['Дата отмены'].notna().astype(int)\n",
    "df = df.drop([\"Unnamed: 0\",\"№ брони\", \"Дата отмены\",\"Статус брони\"], axis=1)\n",
    "display(df.head(),df.shape)"
   ],
   "id": "8b4a32f8aa709836",
   "outputs": [
    {
     "data": {
      "text/plain": [
       "   Номеров  Стоимость  Внесена предоплата  \\\n",
       "0        1    25700.0                   0   \n",
       "1        1    24800.0               12400   \n",
       "2        1    25800.0               12900   \n",
       "3        1    10500.0                   0   \n",
       "4        1    28690.0               28690   \n",
       "\n",
       "                                       Способ оплаты   Дата бронирования  \\\n",
       "0                             Внешняя система оплаты 2023-04-20 20:37:30   \n",
       "1  Отложенная электронная оплата: Банк Россия (ба... 2022-06-18 14:17:02   \n",
       "2             Банк. карта: Банк Россия (банк. карта) 2022-11-14 22:59:30   \n",
       "3             Внешняя система оплаты (С предоплатой) 2023-09-08 15:55:53   \n",
       "4  Система быстрых платежей: Эквайринг ComfortBoo... 2023-05-20 19:54:13   \n",
       "\n",
       "                Заезд  Ночей               Выезд            Источник  \\\n",
       "0 2023-04-28 15:00:00      3 2023-05-01 12:00:00  Яндекс.Путешествия   \n",
       "1 2022-07-11 15:00:00      2 2022-07-13 12:00:00    Официальный сайт   \n",
       "2 2022-12-04 15:00:00      2 2022-12-06 12:00:00    Официальный сайт   \n",
       "3 2023-09-18 15:00:00      1 2023-09-19 12:00:00   Bronevik.com(new)   \n",
       "4 2023-05-29 15:00:00      2 2023-05-31 12:00:00    Официальный сайт   \n",
       "\n",
       "   Категория номера  Гостей  Гостиница  \n",
       "0  Номер «Стандарт»       2          1  \n",
       "1  Номер «Стандарт»       2          1  \n",
       "2    Номер «Студия»       2          4  \n",
       "3  Номер «Стандарт»       1          3  \n",
       "4      Номер «Люкс»       4          1  "
      ],
      "text/html": [
       "<div>\n",
       "<style scoped>\n",
       "    .dataframe tbody tr th:only-of-type {\n",
       "        vertical-align: middle;\n",
       "    }\n",
       "\n",
       "    .dataframe tbody tr th {\n",
       "        vertical-align: top;\n",
       "    }\n",
       "\n",
       "    .dataframe thead th {\n",
       "        text-align: right;\n",
       "    }\n",
       "</style>\n",
       "<table border=\"1\" class=\"dataframe\">\n",
       "  <thead>\n",
       "    <tr style=\"text-align: right;\">\n",
       "      <th></th>\n",
       "      <th>Номеров</th>\n",
       "      <th>Стоимость</th>\n",
       "      <th>Внесена предоплата</th>\n",
       "      <th>Способ оплаты</th>\n",
       "      <th>Дата бронирования</th>\n",
       "      <th>Заезд</th>\n",
       "      <th>Ночей</th>\n",
       "      <th>Выезд</th>\n",
       "      <th>Источник</th>\n",
       "      <th>Категория номера</th>\n",
       "      <th>Гостей</th>\n",
       "      <th>Гостиница</th>\n",
       "    </tr>\n",
       "  </thead>\n",
       "  <tbody>\n",
       "    <tr>\n",
       "      <th>0</th>\n",
       "      <td>1</td>\n",
       "      <td>25700.0</td>\n",
       "      <td>0</td>\n",
       "      <td>Внешняя система оплаты</td>\n",
       "      <td>2023-04-20 20:37:30</td>\n",
       "      <td>2023-04-28 15:00:00</td>\n",
       "      <td>3</td>\n",
       "      <td>2023-05-01 12:00:00</td>\n",
       "      <td>Яндекс.Путешествия</td>\n",
       "      <td>Номер «Стандарт»</td>\n",
       "      <td>2</td>\n",
       "      <td>1</td>\n",
       "    </tr>\n",
       "    <tr>\n",
       "      <th>1</th>\n",
       "      <td>1</td>\n",
       "      <td>24800.0</td>\n",
       "      <td>12400</td>\n",
       "      <td>Отложенная электронная оплата: Банк Россия (ба...</td>\n",
       "      <td>2022-06-18 14:17:02</td>\n",
       "      <td>2022-07-11 15:00:00</td>\n",
       "      <td>2</td>\n",
       "      <td>2022-07-13 12:00:00</td>\n",
       "      <td>Официальный сайт</td>\n",
       "      <td>Номер «Стандарт»</td>\n",
       "      <td>2</td>\n",
       "      <td>1</td>\n",
       "    </tr>\n",
       "    <tr>\n",
       "      <th>2</th>\n",
       "      <td>1</td>\n",
       "      <td>25800.0</td>\n",
       "      <td>12900</td>\n",
       "      <td>Банк. карта: Банк Россия (банк. карта)</td>\n",
       "      <td>2022-11-14 22:59:30</td>\n",
       "      <td>2022-12-04 15:00:00</td>\n",
       "      <td>2</td>\n",
       "      <td>2022-12-06 12:00:00</td>\n",
       "      <td>Официальный сайт</td>\n",
       "      <td>Номер «Студия»</td>\n",
       "      <td>2</td>\n",
       "      <td>4</td>\n",
       "    </tr>\n",
       "    <tr>\n",
       "      <th>3</th>\n",
       "      <td>1</td>\n",
       "      <td>10500.0</td>\n",
       "      <td>0</td>\n",
       "      <td>Внешняя система оплаты (С предоплатой)</td>\n",
       "      <td>2023-09-08 15:55:53</td>\n",
       "      <td>2023-09-18 15:00:00</td>\n",
       "      <td>1</td>\n",
       "      <td>2023-09-19 12:00:00</td>\n",
       "      <td>Bronevik.com(new)</td>\n",
       "      <td>Номер «Стандарт»</td>\n",
       "      <td>1</td>\n",
       "      <td>3</td>\n",
       "    </tr>\n",
       "    <tr>\n",
       "      <th>4</th>\n",
       "      <td>1</td>\n",
       "      <td>28690.0</td>\n",
       "      <td>28690</td>\n",
       "      <td>Система быстрых платежей: Эквайринг ComfortBoo...</td>\n",
       "      <td>2023-05-20 19:54:13</td>\n",
       "      <td>2023-05-29 15:00:00</td>\n",
       "      <td>2</td>\n",
       "      <td>2023-05-31 12:00:00</td>\n",
       "      <td>Официальный сайт</td>\n",
       "      <td>Номер «Люкс»</td>\n",
       "      <td>4</td>\n",
       "      <td>1</td>\n",
       "    </tr>\n",
       "  </tbody>\n",
       "</table>\n",
       "</div>"
      ]
     },
     "metadata": {},
     "output_type": "display_data"
    },
    {
     "data": {
      "text/plain": [
       "(26174, 12)"
      ]
     },
     "metadata": {},
     "output_type": "display_data"
    }
   ],
   "execution_count": 281
  },
  {
   "metadata": {
    "ExecuteTime": {
     "end_time": "2024-09-21T08:02:33.622149Z",
     "start_time": "2024-09-21T08:02:31.010149Z"
    }
   },
   "cell_type": "code",
   "source": [
    "tdf_path = os.path.join(data_dir, 'test.xlsx')\n",
    "display(tdf_path)\n",
    "tdf = pd.read_excel(tdf_path)\n",
    "display(tdf.head())\n",
    "tdf = tdf.drop([\"Unnamed: 0\",\"№ брони\"], axis=1)\n",
    "display(tdf.head())"
   ],
   "id": "42f7db2ed050aa4a",
   "outputs": [
    {
     "data": {
      "text/plain": [
       "'C:\\\\Users\\\\32233\\\\OneDrive\\\\Documents\\\\HSE\\\\AI\\\\projects\\\\PSB_hack\\\\data\\\\test.xlsx'"
      ]
     },
     "metadata": {},
     "output_type": "display_data"
    },
    {
     "data": {
      "text/plain": [
       "   Unnamed: 0                   № брони  Номеров  Стоимость  \\\n",
       "0           0  20231129-16563-238946689        1    23750.0   \n",
       "1           1   20221219-7491-174959103        1    15010.0   \n",
       "2           2   20221211-6634-172724329        1     8400.0   \n",
       "3           3   20230821-6634-212247350        1    42500.0   \n",
       "4           4   20230326-6634-189784563        1    62500.0   \n",
       "\n",
       "   Внесена предоплата                                      Способ оплаты  \\\n",
       "0               23750             Банк. карта: Банк Россия (банк. карта)   \n",
       "1                7505             Банк. карта: Банк Россия (банк. карта)   \n",
       "2                8400  Отложенная электронная оплата: Банк Россия (ба...   \n",
       "3               42500             Банк. карта: Банк Россия (банк. карта)   \n",
       "4               11900  Система быстрых платежей: Эквайринг ComfortBoo...   \n",
       "\n",
       "    Дата бронирования               Заезд  Ночей               Выезд  \\\n",
       "0 2023-11-28 10:34:43 2023-11-29 15:00:00      2 2023-12-01 12:00:00   \n",
       "1 2022-12-12 18:30:43 2022-12-19 15:00:00      2 2022-12-21 12:00:00   \n",
       "2 2022-11-25 22:03:59 2022-12-11 15:00:00      1 2022-12-12 12:00:00   \n",
       "3 2023-07-18 15:45:46 2023-08-21 15:00:00      3 2023-08-24 12:00:00   \n",
       "4 2023-03-23 11:04:13 2023-03-26 15:00:00      5 2023-03-31 12:00:00   \n",
       "\n",
       "           Источник                              Категория номера  Гостей  \\\n",
       "0  Официальный сайт                                Номер «Студия»       3   \n",
       "1  Официальный сайт                              Номер «Стандарт»       2   \n",
       "2  Официальный сайт                              Номер «Стандарт»       2   \n",
       "3  Официальный сайт  Апартаменты с 2 спальнями с отдельным входом       4   \n",
       "4  Официальный сайт                              Номер «Стандарт»       1   \n",
       "\n",
       "   Гостиница  \n",
       "0          4  \n",
       "1          3  \n",
       "2          1  \n",
       "3          1  \n",
       "4          1  "
      ],
      "text/html": [
       "<div>\n",
       "<style scoped>\n",
       "    .dataframe tbody tr th:only-of-type {\n",
       "        vertical-align: middle;\n",
       "    }\n",
       "\n",
       "    .dataframe tbody tr th {\n",
       "        vertical-align: top;\n",
       "    }\n",
       "\n",
       "    .dataframe thead th {\n",
       "        text-align: right;\n",
       "    }\n",
       "</style>\n",
       "<table border=\"1\" class=\"dataframe\">\n",
       "  <thead>\n",
       "    <tr style=\"text-align: right;\">\n",
       "      <th></th>\n",
       "      <th>Unnamed: 0</th>\n",
       "      <th>№ брони</th>\n",
       "      <th>Номеров</th>\n",
       "      <th>Стоимость</th>\n",
       "      <th>Внесена предоплата</th>\n",
       "      <th>Способ оплаты</th>\n",
       "      <th>Дата бронирования</th>\n",
       "      <th>Заезд</th>\n",
       "      <th>Ночей</th>\n",
       "      <th>Выезд</th>\n",
       "      <th>Источник</th>\n",
       "      <th>Категория номера</th>\n",
       "      <th>Гостей</th>\n",
       "      <th>Гостиница</th>\n",
       "    </tr>\n",
       "  </thead>\n",
       "  <tbody>\n",
       "    <tr>\n",
       "      <th>0</th>\n",
       "      <td>0</td>\n",
       "      <td>20231129-16563-238946689</td>\n",
       "      <td>1</td>\n",
       "      <td>23750.0</td>\n",
       "      <td>23750</td>\n",
       "      <td>Банк. карта: Банк Россия (банк. карта)</td>\n",
       "      <td>2023-11-28 10:34:43</td>\n",
       "      <td>2023-11-29 15:00:00</td>\n",
       "      <td>2</td>\n",
       "      <td>2023-12-01 12:00:00</td>\n",
       "      <td>Официальный сайт</td>\n",
       "      <td>Номер «Студия»</td>\n",
       "      <td>3</td>\n",
       "      <td>4</td>\n",
       "    </tr>\n",
       "    <tr>\n",
       "      <th>1</th>\n",
       "      <td>1</td>\n",
       "      <td>20221219-7491-174959103</td>\n",
       "      <td>1</td>\n",
       "      <td>15010.0</td>\n",
       "      <td>7505</td>\n",
       "      <td>Банк. карта: Банк Россия (банк. карта)</td>\n",
       "      <td>2022-12-12 18:30:43</td>\n",
       "      <td>2022-12-19 15:00:00</td>\n",
       "      <td>2</td>\n",
       "      <td>2022-12-21 12:00:00</td>\n",
       "      <td>Официальный сайт</td>\n",
       "      <td>Номер «Стандарт»</td>\n",
       "      <td>2</td>\n",
       "      <td>3</td>\n",
       "    </tr>\n",
       "    <tr>\n",
       "      <th>2</th>\n",
       "      <td>2</td>\n",
       "      <td>20221211-6634-172724329</td>\n",
       "      <td>1</td>\n",
       "      <td>8400.0</td>\n",
       "      <td>8400</td>\n",
       "      <td>Отложенная электронная оплата: Банк Россия (ба...</td>\n",
       "      <td>2022-11-25 22:03:59</td>\n",
       "      <td>2022-12-11 15:00:00</td>\n",
       "      <td>1</td>\n",
       "      <td>2022-12-12 12:00:00</td>\n",
       "      <td>Официальный сайт</td>\n",
       "      <td>Номер «Стандарт»</td>\n",
       "      <td>2</td>\n",
       "      <td>1</td>\n",
       "    </tr>\n",
       "    <tr>\n",
       "      <th>3</th>\n",
       "      <td>3</td>\n",
       "      <td>20230821-6634-212247350</td>\n",
       "      <td>1</td>\n",
       "      <td>42500.0</td>\n",
       "      <td>42500</td>\n",
       "      <td>Банк. карта: Банк Россия (банк. карта)</td>\n",
       "      <td>2023-07-18 15:45:46</td>\n",
       "      <td>2023-08-21 15:00:00</td>\n",
       "      <td>3</td>\n",
       "      <td>2023-08-24 12:00:00</td>\n",
       "      <td>Официальный сайт</td>\n",
       "      <td>Апартаменты с 2 спальнями с отдельным входом</td>\n",
       "      <td>4</td>\n",
       "      <td>1</td>\n",
       "    </tr>\n",
       "    <tr>\n",
       "      <th>4</th>\n",
       "      <td>4</td>\n",
       "      <td>20230326-6634-189784563</td>\n",
       "      <td>1</td>\n",
       "      <td>62500.0</td>\n",
       "      <td>11900</td>\n",
       "      <td>Система быстрых платежей: Эквайринг ComfortBoo...</td>\n",
       "      <td>2023-03-23 11:04:13</td>\n",
       "      <td>2023-03-26 15:00:00</td>\n",
       "      <td>5</td>\n",
       "      <td>2023-03-31 12:00:00</td>\n",
       "      <td>Официальный сайт</td>\n",
       "      <td>Номер «Стандарт»</td>\n",
       "      <td>1</td>\n",
       "      <td>1</td>\n",
       "    </tr>\n",
       "  </tbody>\n",
       "</table>\n",
       "</div>"
      ]
     },
     "metadata": {},
     "output_type": "display_data"
    },
    {
     "data": {
      "text/plain": [
       "   Номеров  Стоимость  Внесена предоплата  \\\n",
       "0        1    23750.0               23750   \n",
       "1        1    15010.0                7505   \n",
       "2        1     8400.0                8400   \n",
       "3        1    42500.0               42500   \n",
       "4        1    62500.0               11900   \n",
       "\n",
       "                                       Способ оплаты   Дата бронирования  \\\n",
       "0             Банк. карта: Банк Россия (банк. карта) 2023-11-28 10:34:43   \n",
       "1             Банк. карта: Банк Россия (банк. карта) 2022-12-12 18:30:43   \n",
       "2  Отложенная электронная оплата: Банк Россия (ба... 2022-11-25 22:03:59   \n",
       "3             Банк. карта: Банк Россия (банк. карта) 2023-07-18 15:45:46   \n",
       "4  Система быстрых платежей: Эквайринг ComfortBoo... 2023-03-23 11:04:13   \n",
       "\n",
       "                Заезд  Ночей               Выезд          Источник  \\\n",
       "0 2023-11-29 15:00:00      2 2023-12-01 12:00:00  Официальный сайт   \n",
       "1 2022-12-19 15:00:00      2 2022-12-21 12:00:00  Официальный сайт   \n",
       "2 2022-12-11 15:00:00      1 2022-12-12 12:00:00  Официальный сайт   \n",
       "3 2023-08-21 15:00:00      3 2023-08-24 12:00:00  Официальный сайт   \n",
       "4 2023-03-26 15:00:00      5 2023-03-31 12:00:00  Официальный сайт   \n",
       "\n",
       "                               Категория номера  Гостей  Гостиница  \n",
       "0                                Номер «Студия»       3          4  \n",
       "1                              Номер «Стандарт»       2          3  \n",
       "2                              Номер «Стандарт»       2          1  \n",
       "3  Апартаменты с 2 спальнями с отдельным входом       4          1  \n",
       "4                              Номер «Стандарт»       1          1  "
      ],
      "text/html": [
       "<div>\n",
       "<style scoped>\n",
       "    .dataframe tbody tr th:only-of-type {\n",
       "        vertical-align: middle;\n",
       "    }\n",
       "\n",
       "    .dataframe tbody tr th {\n",
       "        vertical-align: top;\n",
       "    }\n",
       "\n",
       "    .dataframe thead th {\n",
       "        text-align: right;\n",
       "    }\n",
       "</style>\n",
       "<table border=\"1\" class=\"dataframe\">\n",
       "  <thead>\n",
       "    <tr style=\"text-align: right;\">\n",
       "      <th></th>\n",
       "      <th>Номеров</th>\n",
       "      <th>Стоимость</th>\n",
       "      <th>Внесена предоплата</th>\n",
       "      <th>Способ оплаты</th>\n",
       "      <th>Дата бронирования</th>\n",
       "      <th>Заезд</th>\n",
       "      <th>Ночей</th>\n",
       "      <th>Выезд</th>\n",
       "      <th>Источник</th>\n",
       "      <th>Категория номера</th>\n",
       "      <th>Гостей</th>\n",
       "      <th>Гостиница</th>\n",
       "    </tr>\n",
       "  </thead>\n",
       "  <tbody>\n",
       "    <tr>\n",
       "      <th>0</th>\n",
       "      <td>1</td>\n",
       "      <td>23750.0</td>\n",
       "      <td>23750</td>\n",
       "      <td>Банк. карта: Банк Россия (банк. карта)</td>\n",
       "      <td>2023-11-28 10:34:43</td>\n",
       "      <td>2023-11-29 15:00:00</td>\n",
       "      <td>2</td>\n",
       "      <td>2023-12-01 12:00:00</td>\n",
       "      <td>Официальный сайт</td>\n",
       "      <td>Номер «Студия»</td>\n",
       "      <td>3</td>\n",
       "      <td>4</td>\n",
       "    </tr>\n",
       "    <tr>\n",
       "      <th>1</th>\n",
       "      <td>1</td>\n",
       "      <td>15010.0</td>\n",
       "      <td>7505</td>\n",
       "      <td>Банк. карта: Банк Россия (банк. карта)</td>\n",
       "      <td>2022-12-12 18:30:43</td>\n",
       "      <td>2022-12-19 15:00:00</td>\n",
       "      <td>2</td>\n",
       "      <td>2022-12-21 12:00:00</td>\n",
       "      <td>Официальный сайт</td>\n",
       "      <td>Номер «Стандарт»</td>\n",
       "      <td>2</td>\n",
       "      <td>3</td>\n",
       "    </tr>\n",
       "    <tr>\n",
       "      <th>2</th>\n",
       "      <td>1</td>\n",
       "      <td>8400.0</td>\n",
       "      <td>8400</td>\n",
       "      <td>Отложенная электронная оплата: Банк Россия (ба...</td>\n",
       "      <td>2022-11-25 22:03:59</td>\n",
       "      <td>2022-12-11 15:00:00</td>\n",
       "      <td>1</td>\n",
       "      <td>2022-12-12 12:00:00</td>\n",
       "      <td>Официальный сайт</td>\n",
       "      <td>Номер «Стандарт»</td>\n",
       "      <td>2</td>\n",
       "      <td>1</td>\n",
       "    </tr>\n",
       "    <tr>\n",
       "      <th>3</th>\n",
       "      <td>1</td>\n",
       "      <td>42500.0</td>\n",
       "      <td>42500</td>\n",
       "      <td>Банк. карта: Банк Россия (банк. карта)</td>\n",
       "      <td>2023-07-18 15:45:46</td>\n",
       "      <td>2023-08-21 15:00:00</td>\n",
       "      <td>3</td>\n",
       "      <td>2023-08-24 12:00:00</td>\n",
       "      <td>Официальный сайт</td>\n",
       "      <td>Апартаменты с 2 спальнями с отдельным входом</td>\n",
       "      <td>4</td>\n",
       "      <td>1</td>\n",
       "    </tr>\n",
       "    <tr>\n",
       "      <th>4</th>\n",
       "      <td>1</td>\n",
       "      <td>62500.0</td>\n",
       "      <td>11900</td>\n",
       "      <td>Система быстрых платежей: Эквайринг ComfortBoo...</td>\n",
       "      <td>2023-03-23 11:04:13</td>\n",
       "      <td>2023-03-26 15:00:00</td>\n",
       "      <td>5</td>\n",
       "      <td>2023-03-31 12:00:00</td>\n",
       "      <td>Официальный сайт</td>\n",
       "      <td>Номер «Стандарт»</td>\n",
       "      <td>1</td>\n",
       "      <td>1</td>\n",
       "    </tr>\n",
       "  </tbody>\n",
       "</table>\n",
       "</div>"
      ]
     },
     "metadata": {},
     "output_type": "display_data"
    }
   ],
   "execution_count": 282
  },
  {
   "metadata": {
    "ExecuteTime": {
     "end_time": "2024-09-21T08:02:33.626542Z",
     "start_time": "2024-09-21T08:02:33.623157Z"
    }
   },
   "cell_type": "code",
   "source": [
    "train_df = df \n",
    "test_df = tdf"
   ],
   "id": "134ed5816c1dbf69",
   "outputs": [],
   "execution_count": 283
  },
  {
   "metadata": {
    "ExecuteTime": {
     "end_time": "2024-09-21T08:02:33.691999Z",
     "start_time": "2024-09-21T08:02:33.627549Z"
    }
   },
   "cell_type": "code",
   "source": "train_pool = Pool(train_df, target, cat_features=categorical_features)",
   "id": "78a7de20d4f90c8",
   "outputs": [],
   "execution_count": 284
  },
  {
   "metadata": {
    "ExecuteTime": {
     "end_time": "2024-09-21T08:02:35.914446Z",
     "start_time": "2024-09-21T08:02:33.692453Z"
    }
   },
   "cell_type": "code",
   "source": "model.fit(train_pool)",
   "id": "c92995e4a6fdc9e0",
   "outputs": [
    {
     "name": "stdout",
     "output_type": "stream",
     "text": [
      "0:\tlearn: 0.6418154\ttotal: 23.3ms\tremaining: 2.31s\n",
      "1:\tlearn: 0.5997459\ttotal: 43ms\tremaining: 2.11s\n",
      "2:\tlearn: 0.5648227\ttotal: 64.6ms\tremaining: 2.09s\n",
      "3:\tlearn: 0.5358785\ttotal: 85.8ms\tremaining: 2.06s\n",
      "4:\tlearn: 0.5109153\ttotal: 108ms\tremaining: 2.04s\n",
      "5:\tlearn: 0.4904515\ttotal: 130ms\tremaining: 2.04s\n",
      "6:\tlearn: 0.4649176\ttotal: 154ms\tremaining: 2.05s\n",
      "7:\tlearn: 0.4435076\ttotal: 177ms\tremaining: 2.03s\n",
      "8:\tlearn: 0.4249021\ttotal: 196ms\tremaining: 1.98s\n",
      "9:\tlearn: 0.4092383\ttotal: 218ms\tremaining: 1.96s\n",
      "10:\tlearn: 0.3959147\ttotal: 238ms\tremaining: 1.92s\n",
      "11:\tlearn: 0.3850640\ttotal: 261ms\tremaining: 1.91s\n",
      "12:\tlearn: 0.3747259\ttotal: 285ms\tremaining: 1.91s\n",
      "13:\tlearn: 0.3664597\ttotal: 309ms\tremaining: 1.9s\n",
      "14:\tlearn: 0.3592835\ttotal: 342ms\tremaining: 1.94s\n",
      "15:\tlearn: 0.3531930\ttotal: 368ms\tremaining: 1.93s\n",
      "16:\tlearn: 0.3477506\ttotal: 409ms\tremaining: 1.99s\n",
      "17:\tlearn: 0.3434238\ttotal: 430ms\tremaining: 1.96s\n",
      "18:\tlearn: 0.3396112\ttotal: 450ms\tremaining: 1.92s\n",
      "19:\tlearn: 0.3358394\ttotal: 472ms\tremaining: 1.89s\n",
      "20:\tlearn: 0.3326907\ttotal: 495ms\tremaining: 1.86s\n",
      "21:\tlearn: 0.3296408\ttotal: 516ms\tremaining: 1.83s\n",
      "22:\tlearn: 0.3274977\ttotal: 535ms\tremaining: 1.79s\n",
      "23:\tlearn: 0.3257811\ttotal: 555ms\tremaining: 1.76s\n",
      "24:\tlearn: 0.3240860\ttotal: 574ms\tremaining: 1.72s\n",
      "25:\tlearn: 0.3222716\ttotal: 594ms\tremaining: 1.69s\n",
      "26:\tlearn: 0.3207400\ttotal: 612ms\tremaining: 1.66s\n",
      "27:\tlearn: 0.3195833\ttotal: 631ms\tremaining: 1.62s\n",
      "28:\tlearn: 0.3186128\ttotal: 651ms\tremaining: 1.59s\n",
      "29:\tlearn: 0.3173804\ttotal: 671ms\tremaining: 1.57s\n",
      "30:\tlearn: 0.3165544\ttotal: 692ms\tremaining: 1.54s\n",
      "31:\tlearn: 0.3156744\ttotal: 714ms\tremaining: 1.52s\n",
      "32:\tlearn: 0.3150413\ttotal: 746ms\tremaining: 1.51s\n",
      "33:\tlearn: 0.3148816\ttotal: 756ms\tremaining: 1.47s\n",
      "34:\tlearn: 0.3144359\ttotal: 776ms\tremaining: 1.44s\n",
      "35:\tlearn: 0.3139286\ttotal: 795ms\tremaining: 1.41s\n",
      "36:\tlearn: 0.3135497\ttotal: 815ms\tremaining: 1.39s\n",
      "37:\tlearn: 0.3128560\ttotal: 833ms\tremaining: 1.36s\n",
      "38:\tlearn: 0.3122131\ttotal: 853ms\tremaining: 1.33s\n",
      "39:\tlearn: 0.3118677\ttotal: 874ms\tremaining: 1.31s\n",
      "40:\tlearn: 0.3114326\ttotal: 896ms\tremaining: 1.29s\n",
      "41:\tlearn: 0.3110773\ttotal: 917ms\tremaining: 1.27s\n",
      "42:\tlearn: 0.3104586\ttotal: 939ms\tremaining: 1.24s\n",
      "43:\tlearn: 0.3098317\ttotal: 958ms\tremaining: 1.22s\n",
      "44:\tlearn: 0.3089643\ttotal: 979ms\tremaining: 1.2s\n",
      "45:\tlearn: 0.3085765\ttotal: 998ms\tremaining: 1.17s\n",
      "46:\tlearn: 0.3083450\ttotal: 1.02s\tremaining: 1.15s\n",
      "47:\tlearn: 0.3080759\ttotal: 1.03s\tremaining: 1.12s\n",
      "48:\tlearn: 0.3079027\ttotal: 1.05s\tremaining: 1.1s\n",
      "49:\tlearn: 0.3073488\ttotal: 1.08s\tremaining: 1.08s\n",
      "50:\tlearn: 0.3070702\ttotal: 1.1s\tremaining: 1.06s\n",
      "51:\tlearn: 0.3067548\ttotal: 1.12s\tremaining: 1.04s\n",
      "52:\tlearn: 0.3066453\ttotal: 1.15s\tremaining: 1.02s\n",
      "53:\tlearn: 0.3062560\ttotal: 1.17s\tremaining: 994ms\n",
      "54:\tlearn: 0.3058938\ttotal: 1.19s\tremaining: 972ms\n",
      "55:\tlearn: 0.3057019\ttotal: 1.21s\tremaining: 948ms\n",
      "56:\tlearn: 0.3055622\ttotal: 1.23s\tremaining: 924ms\n",
      "57:\tlearn: 0.3053742\ttotal: 1.24s\tremaining: 901ms\n",
      "58:\tlearn: 0.3052105\ttotal: 1.26s\tremaining: 878ms\n",
      "59:\tlearn: 0.3051481\ttotal: 1.28s\tremaining: 856ms\n",
      "60:\tlearn: 0.3049083\ttotal: 1.3s\tremaining: 833ms\n",
      "61:\tlearn: 0.3046816\ttotal: 1.32s\tremaining: 812ms\n",
      "62:\tlearn: 0.3045393\ttotal: 1.34s\tremaining: 790ms\n",
      "63:\tlearn: 0.3043768\ttotal: 1.36s\tremaining: 768ms\n",
      "64:\tlearn: 0.3042905\ttotal: 1.39s\tremaining: 746ms\n",
      "65:\tlearn: 0.3041265\ttotal: 1.4s\tremaining: 724ms\n",
      "66:\tlearn: 0.3039878\ttotal: 1.42s\tremaining: 701ms\n",
      "67:\tlearn: 0.3038156\ttotal: 1.44s\tremaining: 679ms\n",
      "68:\tlearn: 0.3037420\ttotal: 1.46s\tremaining: 657ms\n",
      "69:\tlearn: 0.3033558\ttotal: 1.48s\tremaining: 635ms\n",
      "70:\tlearn: 0.3032972\ttotal: 1.5s\tremaining: 613ms\n",
      "71:\tlearn: 0.3030991\ttotal: 1.52s\tremaining: 593ms\n",
      "72:\tlearn: 0.3029968\ttotal: 1.55s\tremaining: 572ms\n",
      "73:\tlearn: 0.3029213\ttotal: 1.57s\tremaining: 552ms\n",
      "74:\tlearn: 0.3027582\ttotal: 1.59s\tremaining: 530ms\n",
      "75:\tlearn: 0.3026563\ttotal: 1.61s\tremaining: 508ms\n",
      "76:\tlearn: 0.3023963\ttotal: 1.63s\tremaining: 487ms\n",
      "77:\tlearn: 0.3020886\ttotal: 1.65s\tremaining: 465ms\n",
      "78:\tlearn: 0.3020609\ttotal: 1.67s\tremaining: 443ms\n",
      "79:\tlearn: 0.3018665\ttotal: 1.69s\tremaining: 422ms\n",
      "80:\tlearn: 0.3015348\ttotal: 1.71s\tremaining: 400ms\n",
      "81:\tlearn: 0.3014502\ttotal: 1.74s\tremaining: 382ms\n",
      "82:\tlearn: 0.3013727\ttotal: 1.79s\tremaining: 367ms\n",
      "83:\tlearn: 0.3012284\ttotal: 1.81s\tremaining: 346ms\n",
      "84:\tlearn: 0.3011617\ttotal: 1.84s\tremaining: 324ms\n",
      "85:\tlearn: 0.3009979\ttotal: 1.86s\tremaining: 303ms\n",
      "86:\tlearn: 0.3008751\ttotal: 1.89s\tremaining: 282ms\n",
      "87:\tlearn: 0.3007787\ttotal: 1.91s\tremaining: 260ms\n",
      "88:\tlearn: 0.3004683\ttotal: 1.93s\tremaining: 238ms\n",
      "89:\tlearn: 0.3004037\ttotal: 1.95s\tremaining: 216ms\n",
      "90:\tlearn: 0.3002808\ttotal: 1.97s\tremaining: 195ms\n",
      "91:\tlearn: 0.3000628\ttotal: 1.99s\tremaining: 173ms\n",
      "92:\tlearn: 0.2999342\ttotal: 2.01s\tremaining: 151ms\n",
      "93:\tlearn: 0.2999178\ttotal: 2.02s\tremaining: 129ms\n",
      "94:\tlearn: 0.2997070\ttotal: 2.04s\tremaining: 107ms\n",
      "95:\tlearn: 0.2996564\ttotal: 2.06s\tremaining: 85.8ms\n",
      "96:\tlearn: 0.2995515\ttotal: 2.08s\tremaining: 64.3ms\n",
      "97:\tlearn: 0.2993190\ttotal: 2.1s\tremaining: 42.9ms\n",
      "98:\tlearn: 0.2991694\ttotal: 2.12s\tremaining: 21.4ms\n",
      "99:\tlearn: 0.2990736\ttotal: 2.16s\tremaining: 0us\n"
     ]
    },
    {
     "data": {
      "text/plain": [
       "<catboost.core.CatBoostClassifier at 0x1b9ccec87d0>"
      ]
     },
     "execution_count": 285,
     "metadata": {},
     "output_type": "execute_result"
    }
   ],
   "execution_count": 285
  },
  {
   "metadata": {
    "ExecuteTime": {
     "end_time": "2024-09-21T08:02:35.949779Z",
     "start_time": "2024-09-21T08:02:35.914446Z"
    }
   },
   "cell_type": "code",
   "source": [
    "res=model.predict(tdf)\n",
    "display(res)"
   ],
   "id": "2a08e78a1f1f496",
   "outputs": [
    {
     "data": {
      "text/plain": [
       "array([0, 0, 0, ..., 0, 0, 0], dtype=int64)"
      ]
     },
     "metadata": {},
     "output_type": "display_data"
    }
   ],
   "execution_count": 286
  },
  {
   "metadata": {
    "ExecuteTime": {
     "end_time": "2024-09-21T08:02:35.957009Z",
     "start_time": "2024-09-21T08:02:35.950795Z"
    }
   },
   "cell_type": "code",
   "source": [
    "res_df = pd.DataFrame(res)\n",
    "res_df.to_csv(os.path.join(catboost_res_dir,\"res_all1.csv\"),index = False, header=None)"
   ],
   "id": "abb16d69b94f3748",
   "outputs": [],
   "execution_count": 287
  },
  {
   "metadata": {},
   "cell_type": "markdown",
   "source": [
    "## Another preproc\n",
    "### Hotel to [0,1]"
   ],
   "id": "596022908e4a3150"
  },
  {
   "metadata": {
    "ExecuteTime": {
     "end_time": "2024-09-21T08:35:24.339591Z",
     "start_time": "2024-09-21T08:35:24.336526Z"
    }
   },
   "cell_type": "code",
   "source": "categorical_features = [\"Способ оплаты\", \"Источник\",\"Категория номера\"]",
   "id": "c5ef5967b13adf94",
   "outputs": [],
   "execution_count": 288
  },
  {
   "metadata": {},
   "cell_type": "code",
   "outputs": [],
   "execution_count": null,
   "source": [
    "df = pd.read_excel(train_path)\n",
    "target = df['Дата отмены'].notna().astype(int)\n",
    "df = df.drop([\"Unnamed: 0\",\"№ брони\", \"Дата отмены\",\"Статус брони\"], axis=1)\n",
    "display(df.head(),df.shape)"
   ],
   "id": "dc7895eed6edc185"
  },
  {
   "metadata": {},
   "cell_type": "code",
   "outputs": [],
   "execution_count": null,
   "source": "df['Гостиница']=(df['Гостиница'] >= 3).astype(int)",
   "id": "73eb62d649e69fb1"
  },
  {
   "metadata": {},
   "cell_type": "code",
   "outputs": [],
   "execution_count": null,
   "source": "",
   "id": "d7735a7a75e42629"
  },
  {
   "metadata": {},
   "cell_type": "code",
   "outputs": [],
   "execution_count": null,
   "source": [
    "tdf_path = os.path.join(data_dir, 'test.xlsx')\n",
    "display(tdf_path)\n",
    "tdf = pd.read_excel(tdf_path)\n",
    "display(tdf.head())\n",
    "tdf = tdf.drop([\"Unnamed: 0\",\"№ брони\"], axis=1)\n",
    "display(tdf.head())"
   ],
   "id": "189c2176837466d"
  },
  {
   "metadata": {},
   "cell_type": "code",
   "outputs": [],
   "execution_count": null,
   "source": [
    "train_df = df\n",
    "test_df = tdf\n",
    "train_pool = Pool(train_df, target, cat_features=categorical_features)"
   ],
   "id": "28e6a11e6efea78e"
  },
  {
   "metadata": {},
   "cell_type": "code",
   "outputs": [],
   "execution_count": null,
   "source": "model.fit(train_pool)",
   "id": "535c8595aab9bfc5"
  },
  {
   "metadata": {},
   "cell_type": "code",
   "outputs": [],
   "execution_count": null,
   "source": [
    "res=model.predict(tdf)\n",
    "display(res)"
   ],
   "id": "9422e7dc4bd9d15a"
  },
  {
   "metadata": {},
   "cell_type": "code",
   "outputs": [],
   "execution_count": null,
   "source": [
    "res_df = pd.DataFrame(res)\n",
    "res_df.to_csv(os.path.join(catboost_res_dir,\"Hotel.csv\"),index = False, header=None)"
   ],
   "id": "172c5eb682d9e024"
  }
 ],
 "metadata": {
  "kernelspec": {
   "display_name": "Python 3",
   "language": "python",
   "name": "python3"
  },
  "language_info": {
   "codemirror_mode": {
    "name": "ipython",
    "version": 2
   },
   "file_extension": ".py",
   "mimetype": "text/x-python",
   "name": "python",
   "nbconvert_exporter": "python",
   "pygments_lexer": "ipython2",
   "version": "2.7.6"
  }
 },
 "nbformat": 4,
 "nbformat_minor": 5
}
